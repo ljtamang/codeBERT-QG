{
  "nbformat": 4,
  "nbformat_minor": 0,
  "metadata": {
    "colab": {
      "provenance": [],
      "machine_shape": "hm",
      "authorship_tag": "ABX9TyN4qvsMZZNchWhZusJyxig6",
      "include_colab_link": true
    },
    "kernelspec": {
      "name": "python3",
      "display_name": "Python 3"
    },
    "gpuClass": "premium",
    "accelerator": "GPU"
  },
  "cells": [
    {
      "cell_type": "markdown",
      "metadata": {
        "id": "view-in-github",
        "colab_type": "text"
      },
      "source": [
        "<a href=\"https://colab.research.google.com/github/ljtamang/codeBERT-QG/blob/master/main-ACC.ipynb\" target=\"_parent\"><img src=\"https://colab.research.google.com/assets/colab-badge.svg\" alt=\"Open In Colab\"/></a>"
      ]
    },
    {
      "cell_type": "markdown",
      "source": [
        "Install pacakages required for successfully running this project."
      ],
      "metadata": {
        "id": "IKKRzu4LYvvI"
      }
    },
    {
      "cell_type": "code",
      "source": [
        "!pip install torch\n",
        "!pip install transformers\n",
        "!pip install nltk\n",
        "!pip install psutil\n",
        "# !pip install h5py \n",
        "# !pip install typing-extensions \n",
        "# !pip install wheel \n",
        "!pip install blue"
      ],
      "metadata": {
        "colab": {
          "base_uri": "https://localhost:8080/"
        },
        "id": "Vv_8MJCYAgMW",
        "outputId": "39d04487-e7d8-4e8c-c3e3-5a35b3902cdd"
      },
      "execution_count": 1,
      "outputs": [
        {
          "output_type": "stream",
          "name": "stdout",
          "text": [
            "Looking in indexes: https://pypi.org/simple, https://us-python.pkg.dev/colab-wheels/public/simple/\n",
            "Requirement already satisfied: torch in /usr/local/lib/python3.8/dist-packages (1.13.1+cu116)\n",
            "Requirement already satisfied: typing-extensions in /usr/local/lib/python3.8/dist-packages (from torch) (4.4.0)\n",
            "Looking in indexes: https://pypi.org/simple, https://us-python.pkg.dev/colab-wheels/public/simple/\n",
            "Collecting transformers\n",
            "  Downloading transformers-4.26.0-py3-none-any.whl (6.3 MB)\n",
            "\u001b[2K     \u001b[90m━━━━━━━━━━━━━━━━━━━━━━━━━━━━━━━━━━━━━━━━\u001b[0m \u001b[32m6.3/6.3 MB\u001b[0m \u001b[31m58.8 MB/s\u001b[0m eta \u001b[36m0:00:00\u001b[0m\n",
            "\u001b[?25hRequirement already satisfied: regex!=2019.12.17 in /usr/local/lib/python3.8/dist-packages (from transformers) (2022.6.2)\n",
            "Collecting tokenizers!=0.11.3,<0.14,>=0.11.1\n",
            "  Downloading tokenizers-0.13.2-cp38-cp38-manylinux_2_17_x86_64.manylinux2014_x86_64.whl (7.6 MB)\n",
            "\u001b[2K     \u001b[90m━━━━━━━━━━━━━━━━━━━━━━━━━━━━━━━━━━━━━━━━\u001b[0m \u001b[32m7.6/7.6 MB\u001b[0m \u001b[31m83.4 MB/s\u001b[0m eta \u001b[36m0:00:00\u001b[0m\n",
            "\u001b[?25hRequirement already satisfied: numpy>=1.17 in /usr/local/lib/python3.8/dist-packages (from transformers) (1.21.6)\n",
            "Requirement already satisfied: filelock in /usr/local/lib/python3.8/dist-packages (from transformers) (3.9.0)\n",
            "Collecting huggingface-hub<1.0,>=0.11.0\n",
            "  Downloading huggingface_hub-0.12.0-py3-none-any.whl (190 kB)\n",
            "\u001b[2K     \u001b[90m━━━━━━━━━━━━━━━━━━━━━━━━━━━━━━━━━━━━━━━\u001b[0m \u001b[32m190.3/190.3 KB\u001b[0m \u001b[31m8.1 MB/s\u001b[0m eta \u001b[36m0:00:00\u001b[0m\n",
            "\u001b[?25hRequirement already satisfied: pyyaml>=5.1 in /usr/local/lib/python3.8/dist-packages (from transformers) (6.0)\n",
            "Requirement already satisfied: packaging>=20.0 in /usr/local/lib/python3.8/dist-packages (from transformers) (23.0)\n",
            "Requirement already satisfied: requests in /usr/local/lib/python3.8/dist-packages (from transformers) (2.25.1)\n",
            "Requirement already satisfied: tqdm>=4.27 in /usr/local/lib/python3.8/dist-packages (from transformers) (4.64.1)\n",
            "Requirement already satisfied: typing-extensions>=3.7.4.3 in /usr/local/lib/python3.8/dist-packages (from huggingface-hub<1.0,>=0.11.0->transformers) (4.4.0)\n",
            "Requirement already satisfied: idna<3,>=2.5 in /usr/local/lib/python3.8/dist-packages (from requests->transformers) (2.10)\n",
            "Requirement already satisfied: chardet<5,>=3.0.2 in /usr/local/lib/python3.8/dist-packages (from requests->transformers) (4.0.0)\n",
            "Requirement already satisfied: urllib3<1.27,>=1.21.1 in /usr/local/lib/python3.8/dist-packages (from requests->transformers) (1.24.3)\n",
            "Requirement already satisfied: certifi>=2017.4.17 in /usr/local/lib/python3.8/dist-packages (from requests->transformers) (2022.12.7)\n",
            "Installing collected packages: tokenizers, huggingface-hub, transformers\n",
            "Successfully installed huggingface-hub-0.12.0 tokenizers-0.13.2 transformers-4.26.0\n",
            "Looking in indexes: https://pypi.org/simple, https://us-python.pkg.dev/colab-wheels/public/simple/\n",
            "Requirement already satisfied: nltk in /usr/local/lib/python3.8/dist-packages (3.7)\n",
            "Requirement already satisfied: regex>=2021.8.3 in /usr/local/lib/python3.8/dist-packages (from nltk) (2022.6.2)\n",
            "Requirement already satisfied: click in /usr/local/lib/python3.8/dist-packages (from nltk) (7.1.2)\n",
            "Requirement already satisfied: joblib in /usr/local/lib/python3.8/dist-packages (from nltk) (1.2.0)\n",
            "Requirement already satisfied: tqdm in /usr/local/lib/python3.8/dist-packages (from nltk) (4.64.1)\n",
            "Looking in indexes: https://pypi.org/simple, https://us-python.pkg.dev/colab-wheels/public/simple/\n",
            "Requirement already satisfied: psutil in /usr/local/lib/python3.8/dist-packages (5.4.8)\n",
            "Looking in indexes: https://pypi.org/simple, https://us-python.pkg.dev/colab-wheels/public/simple/\n",
            "Collecting blue\n",
            "  Downloading blue-0.9.1-py3-none-any.whl (10 kB)\n",
            "Collecting flake8<5.0.0,>=3.8\n",
            "  Downloading flake8-4.0.1-py2.py3-none-any.whl (64 kB)\n",
            "\u001b[2K     \u001b[90m━━━━━━━━━━━━━━━━━━━━━━━━━━━━━━━━━━━━━━━━\u001b[0m \u001b[32m64.1/64.1 KB\u001b[0m \u001b[31m7.4 MB/s\u001b[0m eta \u001b[36m0:00:00\u001b[0m\n",
            "\u001b[?25hCollecting black==22.1.0\n",
            "  Downloading black-22.1.0-cp38-cp38-manylinux_2_17_x86_64.manylinux2014_x86_64.whl (1.5 MB)\n",
            "\u001b[2K     \u001b[90m━━━━━━━━━━━━━━━━━━━━━━━━━━━━━━━━━━━━━━━━\u001b[0m \u001b[32m1.5/1.5 MB\u001b[0m \u001b[31m73.4 MB/s\u001b[0m eta \u001b[36m0:00:00\u001b[0m\n",
            "\u001b[?25hRequirement already satisfied: tomli>=1.1.0 in /usr/local/lib/python3.8/dist-packages (from black==22.1.0->blue) (2.0.1)\n",
            "Collecting pathspec>=0.9.0\n",
            "  Downloading pathspec-0.11.0-py3-none-any.whl (29 kB)\n",
            "Requirement already satisfied: typing-extensions>=3.10.0.0 in /usr/local/lib/python3.8/dist-packages (from black==22.1.0->blue) (4.4.0)\n",
            "Collecting mypy-extensions>=0.4.3\n",
            "  Downloading mypy_extensions-1.0.0-py3-none-any.whl (4.7 kB)\n",
            "Requirement already satisfied: platformdirs>=2 in /usr/local/lib/python3.8/dist-packages (from black==22.1.0->blue) (2.6.2)\n",
            "Collecting click>=8.0.0\n",
            "  Downloading click-8.1.3-py3-none-any.whl (96 kB)\n",
            "\u001b[2K     \u001b[90m━━━━━━━━━━━━━━━━━━━━━━━━━━━━━━━━━━━━━━━━\u001b[0m \u001b[32m96.6/96.6 KB\u001b[0m \u001b[31m5.4 MB/s\u001b[0m eta \u001b[36m0:00:00\u001b[0m\n",
            "\u001b[?25hCollecting mccabe<0.7.0,>=0.6.0\n",
            "  Downloading mccabe-0.6.1-py2.py3-none-any.whl (8.6 kB)\n",
            "Collecting pycodestyle<2.9.0,>=2.8.0\n",
            "  Downloading pycodestyle-2.8.0-py2.py3-none-any.whl (42 kB)\n",
            "\u001b[2K     \u001b[90m━━━━━━━━━━━━━━━━━━━━━━━━━━━━━━━━━━━━━━━━\u001b[0m \u001b[32m42.1/42.1 KB\u001b[0m \u001b[31m5.1 MB/s\u001b[0m eta \u001b[36m0:00:00\u001b[0m\n",
            "\u001b[?25hCollecting pyflakes<2.5.0,>=2.4.0\n",
            "  Downloading pyflakes-2.4.0-py2.py3-none-any.whl (69 kB)\n",
            "\u001b[2K     \u001b[90m━━━━━━━━━━━━━━━━━━━━━━━━━━━━━━━━━━━━━━━━\u001b[0m \u001b[32m69.7/69.7 KB\u001b[0m \u001b[31m8.0 MB/s\u001b[0m eta \u001b[36m0:00:00\u001b[0m\n",
            "\u001b[?25hInstalling collected packages: mccabe, pyflakes, pycodestyle, pathspec, mypy-extensions, click, flake8, black, blue\n",
            "  Attempting uninstall: click\n",
            "    Found existing installation: click 7.1.2\n",
            "    Uninstalling click-7.1.2:\n",
            "      Successfully uninstalled click-7.1.2\n",
            "\u001b[31mERROR: pip's dependency resolver does not currently take into account all the packages that are installed. This behaviour is the source of the following dependency conflicts.\n",
            "flask 1.1.4 requires click<8.0,>=5.1, but you have click 8.1.3 which is incompatible.\u001b[0m\u001b[31m\n",
            "\u001b[0mSuccessfully installed black-22.1.0 blue-0.9.1 click-8.1.3 flake8-4.0.1 mccabe-0.6.1 mypy-extensions-1.0.0 pathspec-0.11.0 pycodestyle-2.8.0 pyflakes-2.4.0\n"
          ]
        }
      ]
    },
    {
      "cell_type": "markdown",
      "source": [
        "Clone the source code and data used for this project from github repository"
      ],
      "metadata": {
        "id": "f6OLvA_lTB-t"
      }
    },
    {
      "cell_type": "code",
      "source": [
        "!git clone https://github.com/ljtamang/codeBERT-QG.git"
      ],
      "metadata": {
        "colab": {
          "base_uri": "https://localhost:8080/"
        },
        "id": "l694QXfL-Uxv",
        "outputId": "28a90825-6ca6-417e-b567-5cb50d96425e"
      },
      "execution_count": 2,
      "outputs": [
        {
          "output_type": "stream",
          "name": "stdout",
          "text": [
            "Cloning into 'codeBERT-QG'...\n",
            "remote: Enumerating objects: 313, done.\u001b[K\n",
            "remote: Counting objects: 100% (182/182), done.\u001b[K\n",
            "remote: Compressing objects: 100% (122/122), done.\u001b[K\n",
            "remote: Total 313 (delta 66), reused 161 (delta 53), pack-reused 131\u001b[K\n",
            "Receiving objects: 100% (313/313), 84.60 MiB | 9.89 MiB/s, done.\n",
            "Resolving deltas: 100% (135/135), done.\n"
          ]
        }
      ]
    },
    {
      "cell_type": "markdown",
      "source": [
        "Navigate inside the recently downloaded codeBERT-QG project folder"
      ],
      "metadata": {
        "id": "NUHSNiw5amwk"
      }
    },
    {
      "cell_type": "code",
      "source": [
        "%cd codeBERT-QG\n",
        "#%cd codeBERT-QG/code"
      ],
      "metadata": {
        "colab": {
          "base_uri": "https://localhost:8080/"
        },
        "id": "ZyA5rzWq9zsO",
        "outputId": "1739e846-88d9-4d60-c23e-494d24c54e8d"
      },
      "execution_count": 4,
      "outputs": [
        {
          "output_type": "stream",
          "name": "stdout",
          "text": [
            "/content/codeBERT-QG\n"
          ]
        }
      ]
    },
    {
      "cell_type": "code",
      "source": [],
      "metadata": {
        "id": "AeVRBiqIGCGe"
      },
      "execution_count": null,
      "outputs": []
    },
    {
      "cell_type": "markdown",
      "source": [
        "Run execute java_script.sh . This will take care of everything and the project should build the model, validate and test it too."
      ],
      "metadata": {
        "id": "Ed53PSxHT04D"
      }
    },
    {
      "cell_type": "code",
      "source": [
        "#when GPU 1 is available\n",
        "!bash java_script.sh 0 CbQG-ACC\n"
      ],
      "metadata": {
        "colab": {
          "base_uri": "https://localhost:8080/"
        },
        "id": "NKxlAA1JD9qi",
        "outputId": "f13b76cc-c0e5-4394-ecc3-47e9ef199eb8"
      },
      "execution_count": 7,
      "outputs": [
        {
          "output_type": "stream",
          "name": "stdout",
          "text": [
            "2023-02-08 08:19:21.781156: I tensorflow/core/util/util.cc:169] oneDNN custom operations are on. You may see slightly different numerical results due to floating-point round-off errors from different computation orders. To turn them off, set the environment variable `TF_ENABLE_ONEDNN_OPTS=0`.\n",
            "WARNING:__main__:Process rank: -1, device: cuda, n_gpu: 1, distributed training: False\n",
            "INFO:__main__:*** Example ***\n",
            "INFO:__main__:idx: 0\n",
            "INFO:__main__:source_tokens: ['<s>', 'to', '_target', 'file', '</s>', 'mer', 'ges', '_source', 'xml', '_into', '_target', 'xml', '_/', '_target', 'file', '_(', '_target', 'xml', '_is', '_the', '_contents', '_of', '_target', 'file', '_)', '_.', '_returns', '_the', '_resulting', '_xml', '_if', '_it', '_still', '_needs', '_to', '_be', '_written', '_to', '_target', 'file', '_,', '_or', '_null', '_if', '_the', '_file', '_has', '_already', '_been', '_/', '_doesn', \"_'\", '_t', '_need', '_to', '_be', '_updated', '_.', '</s>', '@', '_Null', 'able', '_public', '_static', '_String', '_merge', '_X', 'ml', '_(', '_@', '_Not', '_Null', '_Rend', 'ering', '_Context', '_context', '_,', '_String', '_source', '_X', 'ml', '_,', '_String', '_target', '_X', 'ml', '_,', '_File', '_target', '_File', '_)', '_{', '_boolean', '_ok', '_;', '_String', '_file', '_Name', '_=', '_target', '_File', '_.', '_get', '_Name', '_(', '_)', '_;', '_String', '_contents', '_;', '_if', '_(', '_file', '_Name', '_.', '_equals', '_(', '_S', 'dk', '_Const', 'ants', '_.', '_FN', '_AND', 'RO', 'ID', '_MAN', 'IF', 'EST', '_XML', '_)', '_)', '_{', '_Document', '_current', '_Document', '_=', '_X', 'ml', '_Ut', 'ils', '_.', '_parse', '_Document', '_Sil', 'ently', '_(', '_target', '_X', 'ml', '_,', '_BO', 'OL', '_)', '_;', '_assert', '_current', '_Document', '_!=', '_null', '_:', '_target', '_X', 'ml', '_+', '_STR', 'ING', '_;', '_Document', '_fragment', '_=', '_X', 'ml', '_Ut', 'ils', '_.', '_parse', '_Document', '_Sil', 'ently', '_(', '_source', '_X', 'ml', '_,', '_BO', 'OL', '_)', '_;', '_assert', '_fragment', '_!=', '_null', '_:', '_source', '_X', 'ml', '_+', '_STR', 'ING', '_;', '_contents', '_=', '_merge', '_Manifest', '_(', '_target', '_File', '_,', '_target', '_X', 'ml', '_,', '_source', '_X', 'ml', '_)', '_;', '_ok', '_=', '_contents', '_!=', '_null', '_;', '_}', '_else', '_{', '_String', '_parent', '_Folder', '_Name', '_=', '_target', '_File', '_.', '_get', '_Parent', '_File', '_(', '_)', '_.', '_get', '_Name', '_(', '_)', '_;', '_Resource', '_Folder', '_Type', '_folder', '_Type', '_=', '_Resource', '_Folder', '_Type', '_.', '_get', '_Folder', '_Type', '_(', '_parent', '_Folder', '_Name', '_)', '_;', '_contents', '_=', '_merge', '_Resource', '_File', '_(', '_context', '_,', '_target', '_X', 'ml', '_,', '_source', '_X', 'ml', '_,', '_file', '_Name', '_,', '_folder', '_Type', '_)', '_;', '_ok', '_=', '_contents', '_!=', '_null', '_;', '_}', '_if', '_(', '_!', '_ok', '_)', '_{', '_contents', '_=', '_wrap', '_With', '_Merge', '_Conflict', '_(', '_target', '_X', 'ml', '_,', '_source', '_X', 'ml', '_)', '_;', '_context', '_.', '_get', '_Warn', 'ings', '_(', '_)', '_.', '_add', '_(', '_String', '_.', '_format', '_(', '_STR', 'ING', '_,', '_target', '_File', '_.', '_get', '_Name', '_(', '_)', '_)', '_)', '_;', '_}', '_return', '_contents', '_;', '_}', '</s>']\n",
            "INFO:__main__:source_ids: 0 560 1002 21710 2 2089 5641 1300 47858 88 1002 47858 1589 1002 21710 36 1002 47858 16 5 13654 9 1002 21710 4839 479 2886 5 5203 49377 114 24 202 782 7 28 1982 7 1002 21710 2156 50 23796 114 5 2870 34 416 57 1589 630 128 326 240 7 28 4752 479 2 1039 44840 868 285 25156 26602 19388 1577 18517 36 787 1491 44840 29110 2961 43885 5377 2156 26602 1300 1577 18517 2156 26602 1002 1577 18517 2156 8655 1002 8655 4839 25522 49378 15983 25606 26602 2870 10704 5457 1002 8655 479 120 10704 36 4839 25606 26602 13654 25606 114 36 2870 10704 479 27601 36 208 43357 11242 3277 479 38721 4248 8727 2688 12408 7025 4923 46917 4839 4839 25522 27246 595 27246 5457 1577 18517 11183 5290 479 43756 27246 8897 7240 36 1002 1577 18517 2156 9963 3384 4839 25606 18088 595 27246 49333 23796 4832 1002 1577 18517 2055 20857 1862 25606 27246 37903 5457 1577 18517 11183 5290 479 43756 27246 8897 7240 36 1300 1577 18517 2156 9963 3384 4839 25606 18088 37903 49333 23796 4832 1300 1577 18517 2055 20857 1862 25606 13654 5457 19388 41373 36 1002 8655 2156 1002 1577 18517 2156 1300 1577 18517 4839 25606 15983 5457 13654 49333 23796 25606 35524 1493 25522 26602 4095 47728 10704 5457 1002 8655 479 120 7783 8655 36 4839 479 120 10704 36 4839 25606 13877 47728 7773 32038 7773 5457 13877 47728 7773 479 120 47728 7773 36 4095 47728 10704 4839 25606 13654 5457 19388 13877 8655 36 5377 2156 1002 1577 18517 2156 1300 1577 18517 2156 2870 10704 2156 32038 7773 4839 25606 15983 5457 13654 49333 23796 25606 35524 114 36 27785 15983 4839 25522 13654 5457 10438 590 46417 35856 36 1002 1577 18517 2156 1300 1577 18517 4839 25606 5377 479 120 26367 1033 36 4839 479 1606 36 26602 479 7390 36 20857 1862 2156 1002 8655 479 120 10704 36 4839 4839 4839 25606 35524 671 13654 25606 35524 2 1 1 1 1 1 1 1 1 1 1 1 1 1 1 1 1 1 1 1 1 1 1 1 1 1 1 1 1 1 1 1 1 1 1 1 1 1 1 1 1 1 1 1 1 1 1 1 1 1 1 1 1 1 1\n",
            "INFO:__main__:source_mask: 1 1 1 1 1 1 1 1 1 1 1 1 1 1 1 1 1 1 1 1 1 1 1 1 1 1 1 1 1 1 1 1 1 1 1 1 1 1 1 1 1 1 1 1 1 1 1 1 1 1 1 1 1 1 1 1 1 1 1 1 1 1 1 1 1 1 1 1 1 1 1 1 1 1 1 1 1 1 1 1 1 1 1 1 1 1 1 1 1 1 1 1 1 1 1 1 1 1 1 1 1 1 1 1 1 1 1 1 1 1 1 1 1 1 1 1 1 1 1 1 1 1 1 1 1 1 1 1 1 1 1 1 1 1 1 1 1 1 1 1 1 1 1 1 1 1 1 1 1 1 1 1 1 1 1 1 1 1 1 1 1 1 1 1 1 1 1 1 1 1 1 1 1 1 1 1 1 1 1 1 1 1 1 1 1 1 1 1 1 1 1 1 1 1 1 1 1 1 1 1 1 1 1 1 1 1 1 1 1 1 1 1 1 1 1 1 1 1 1 1 1 1 1 1 1 1 1 1 1 1 1 1 1 1 1 1 1 1 1 1 1 1 1 1 1 1 1 1 1 1 1 1 1 1 1 1 1 1 1 1 1 1 1 1 1 1 1 1 1 1 1 1 1 1 1 1 1 1 1 1 1 1 1 1 1 1 1 1 1 1 1 1 1 1 1 1 1 1 1 1 1 1 1 1 1 1 1 1 1 1 1 1 1 1 1 1 1 1 1 1 1 1 1 1 1 1 1 1 1 1 1 1 1 1 1 1 1 1 1 1 1 1 1 1 1 1 1 1 1 1 0 0 0 0 0 0 0 0 0 0 0 0 0 0 0 0 0 0 0 0 0 0 0 0 0 0 0 0 0 0 0 0 0 0 0 0 0 0 0 0 0 0 0 0 0 0 0 0 0 0 0 0 0 0\n",
            "INFO:__main__:target_tokens: ['<s>', 'How', '_be', '_it', '_written', '_?', '</s>']\n",
            "INFO:__main__:target_ids: 0 6179 28 24 1982 17487 2 1 1 1 1 1 1 1 1 1 1 1 1 1 1 1 1 1 1 1 1 1 1 1 1 1 1 1 1 1 1 1 1 1 1 1 1 1 1 1 1 1 1 1 1 1\n",
            "INFO:__main__:target_mask: 1 1 1 1 1 1 1 0 0 0 0 0 0 0 0 0 0 0 0 0 0 0 0 0 0 0 0 0 0 0 0 0 0 0 0 0 0 0 0 0 0 0 0 0 0 0 0 0 0 0 0 0\n",
            "INFO:__main__:*** Example ***\n",
            "INFO:__main__:idx: 1\n",
            "INFO:__main__:source_tokens: ['<s>', 'to', '_be', '_written', '_to', '_target', 'file', '</s>', 'mer', 'ges', '_source', 'xml', '_into', '_target', 'xml', '_/', '_target', 'file', '_(', '_target', 'xml', '_is', '_the', '_contents', '_of', '_target', 'file', '_)', '_.', '_returns', '_the', '_resulting', '_xml', '_if', '_it', '_still', '_needs', '_to', '_be', '_written', '_to', '_target', 'file', '_,', '_or', '_null', '_if', '_the', '_file', '_has', '_already', '_been', '_/', '_doesn', \"_'\", '_t', '_need', '_to', '_be', '_updated', '_.', '</s>', '@', '_Null', 'able', '_public', '_static', '_String', '_merge', '_X', 'ml', '_(', '_@', '_Not', '_Null', '_Rend', 'ering', '_Context', '_context', '_,', '_String', '_source', '_X', 'ml', '_,', '_String', '_target', '_X', 'ml', '_,', '_File', '_target', '_File', '_)', '_{', '_boolean', '_ok', '_;', '_String', '_file', '_Name', '_=', '_target', '_File', '_.', '_get', '_Name', '_(', '_)', '_;', '_String', '_contents', '_;', '_if', '_(', '_file', '_Name', '_.', '_equals', '_(', '_S', 'dk', '_Const', 'ants', '_.', '_FN', '_AND', 'RO', 'ID', '_MAN', 'IF', 'EST', '_XML', '_)', '_)', '_{', '_Document', '_current', '_Document', '_=', '_X', 'ml', '_Ut', 'ils', '_.', '_parse', '_Document', '_Sil', 'ently', '_(', '_target', '_X', 'ml', '_,', '_BO', 'OL', '_)', '_;', '_assert', '_current', '_Document', '_!=', '_null', '_:', '_target', '_X', 'ml', '_+', '_STR', 'ING', '_;', '_Document', '_fragment', '_=', '_X', 'ml', '_Ut', 'ils', '_.', '_parse', '_Document', '_Sil', 'ently', '_(', '_source', '_X', 'ml', '_,', '_BO', 'OL', '_)', '_;', '_assert', '_fragment', '_!=', '_null', '_:', '_source', '_X', 'ml', '_+', '_STR', 'ING', '_;', '_contents', '_=', '_merge', '_Manifest', '_(', '_target', '_File', '_,', '_target', '_X', 'ml', '_,', '_source', '_X', 'ml', '_)', '_;', '_ok', '_=', '_contents', '_!=', '_null', '_;', '_}', '_else', '_{', '_String', '_parent', '_Folder', '_Name', '_=', '_target', '_File', '_.', '_get', '_Parent', '_File', '_(', '_)', '_.', '_get', '_Name', '_(', '_)', '_;', '_Resource', '_Folder', '_Type', '_folder', '_Type', '_=', '_Resource', '_Folder', '_Type', '_.', '_get', '_Folder', '_Type', '_(', '_parent', '_Folder', '_Name', '_)', '_;', '_contents', '_=', '_merge', '_Resource', '_File', '_(', '_context', '_,', '_target', '_X', 'ml', '_,', '_source', '_X', 'ml', '_,', '_file', '_Name', '_,', '_folder', '_Type', '_)', '_;', '_ok', '_=', '_contents', '_!=', '_null', '_;', '_}', '_if', '_(', '_!', '_ok', '_)', '_{', '_contents', '_=', '_wrap', '_With', '_Merge', '_Conflict', '_(', '_target', '_X', 'ml', '_,', '_source', '_X', 'ml', '_)', '_;', '_context', '_.', '_get', '_Warn', 'ings', '_(', '_)', '_.', '_add', '_(', '_String', '_.', '_format', '_(', '_STR', 'ING', '_,', '_target', '_File', '_.', '_get', '_Name', '_(', '_)', '_)', '_)', '_;', '_}', '_return', '_contents', '_;', '_}', '</s>']\n",
            "INFO:__main__:source_ids: 0 560 28 1982 7 1002 21710 2 2089 5641 1300 47858 88 1002 47858 1589 1002 21710 36 1002 47858 16 5 13654 9 1002 21710 4839 479 2886 5 5203 49377 114 24 202 782 7 28 1982 7 1002 21710 2156 50 23796 114 5 2870 34 416 57 1589 630 128 326 240 7 28 4752 479 2 1039 44840 868 285 25156 26602 19388 1577 18517 36 787 1491 44840 29110 2961 43885 5377 2156 26602 1300 1577 18517 2156 26602 1002 1577 18517 2156 8655 1002 8655 4839 25522 49378 15983 25606 26602 2870 10704 5457 1002 8655 479 120 10704 36 4839 25606 26602 13654 25606 114 36 2870 10704 479 27601 36 208 43357 11242 3277 479 38721 4248 8727 2688 12408 7025 4923 46917 4839 4839 25522 27246 595 27246 5457 1577 18517 11183 5290 479 43756 27246 8897 7240 36 1002 1577 18517 2156 9963 3384 4839 25606 18088 595 27246 49333 23796 4832 1002 1577 18517 2055 20857 1862 25606 27246 37903 5457 1577 18517 11183 5290 479 43756 27246 8897 7240 36 1300 1577 18517 2156 9963 3384 4839 25606 18088 37903 49333 23796 4832 1300 1577 18517 2055 20857 1862 25606 13654 5457 19388 41373 36 1002 8655 2156 1002 1577 18517 2156 1300 1577 18517 4839 25606 15983 5457 13654 49333 23796 25606 35524 1493 25522 26602 4095 47728 10704 5457 1002 8655 479 120 7783 8655 36 4839 479 120 10704 36 4839 25606 13877 47728 7773 32038 7773 5457 13877 47728 7773 479 120 47728 7773 36 4095 47728 10704 4839 25606 13654 5457 19388 13877 8655 36 5377 2156 1002 1577 18517 2156 1300 1577 18517 2156 2870 10704 2156 32038 7773 4839 25606 15983 5457 13654 49333 23796 25606 35524 114 36 27785 15983 4839 25522 13654 5457 10438 590 46417 35856 36 1002 1577 18517 2156 1300 1577 18517 4839 25606 5377 479 120 26367 1033 36 4839 479 1606 36 26602 479 7390 36 20857 1862 2156 1002 8655 479 120 10704 36 4839 4839 4839 25606 35524 671 13654 25606 35524 2 1 1 1 1 1 1 1 1 1 1 1 1 1 1 1 1 1 1 1 1 1 1 1 1 1 1 1 1 1 1 1 1 1 1 1 1 1 1 1 1 1 1 1 1 1 1 1 1 1 1 1\n",
            "INFO:__main__:source_mask: 1 1 1 1 1 1 1 1 1 1 1 1 1 1 1 1 1 1 1 1 1 1 1 1 1 1 1 1 1 1 1 1 1 1 1 1 1 1 1 1 1 1 1 1 1 1 1 1 1 1 1 1 1 1 1 1 1 1 1 1 1 1 1 1 1 1 1 1 1 1 1 1 1 1 1 1 1 1 1 1 1 1 1 1 1 1 1 1 1 1 1 1 1 1 1 1 1 1 1 1 1 1 1 1 1 1 1 1 1 1 1 1 1 1 1 1 1 1 1 1 1 1 1 1 1 1 1 1 1 1 1 1 1 1 1 1 1 1 1 1 1 1 1 1 1 1 1 1 1 1 1 1 1 1 1 1 1 1 1 1 1 1 1 1 1 1 1 1 1 1 1 1 1 1 1 1 1 1 1 1 1 1 1 1 1 1 1 1 1 1 1 1 1 1 1 1 1 1 1 1 1 1 1 1 1 1 1 1 1 1 1 1 1 1 1 1 1 1 1 1 1 1 1 1 1 1 1 1 1 1 1 1 1 1 1 1 1 1 1 1 1 1 1 1 1 1 1 1 1 1 1 1 1 1 1 1 1 1 1 1 1 1 1 1 1 1 1 1 1 1 1 1 1 1 1 1 1 1 1 1 1 1 1 1 1 1 1 1 1 1 1 1 1 1 1 1 1 1 1 1 1 1 1 1 1 1 1 1 1 1 1 1 1 1 1 1 1 1 1 1 1 1 1 1 1 1 1 1 1 1 1 1 1 1 1 1 1 1 1 1 1 1 1 1 1 1 1 1 1 1 1 1 1 0 0 0 0 0 0 0 0 0 0 0 0 0 0 0 0 0 0 0 0 0 0 0 0 0 0 0 0 0 0 0 0 0 0 0 0 0 0 0 0 0 0 0 0 0 0 0 0 0 0 0\n",
            "INFO:__main__:target_tokens: ['<s>', 'What', '_does', '_it', '_need', '_still', '_?', '</s>']\n",
            "INFO:__main__:target_ids: 0 2264 473 24 240 202 17487 2 1 1 1 1 1 1 1 1 1 1 1 1 1 1 1 1 1 1 1 1 1 1 1 1 1 1 1 1 1 1 1 1 1 1 1 1 1 1 1 1 1 1 1 1\n",
            "INFO:__main__:target_mask: 1 1 1 1 1 1 1 1 0 0 0 0 0 0 0 0 0 0 0 0 0 0 0 0 0 0 0 0 0 0 0 0 0 0 0 0 0 0 0 0 0 0 0 0 0 0 0 0 0 0 0 0\n",
            "INFO:__main__:*** Example ***\n",
            "INFO:__main__:idx: 2\n",
            "INFO:__main__:source_tokens: ['<s>', 'a', '_new', '_transformer', '_object', '</s>', 'create', '_a', '_new', '_transformer', '_object', '_that', '_performs', '_a', '_copy', '_of', '_the', '_source', '_to', '_the', '_result', '_.', '</s>', 'public', '_Tem', 'plates', '_Handler', '_new', '_Tem', 'plates', '_Handler', '_(', '_)', '_throws', '_Trans', 'former', '_Configuration', '_Exception', '_{', '_return', '_new', '_Styles', 'heet', '_Handler', '_(', '_this', '_)', '_;', '_}', '</s>']\n",
            "INFO:__main__:source_ids: 0 102 92 40878 7626 2 32845 10 92 40878 7626 14 14023 10 5375 9 5 1300 7 5 898 479 2 15110 9188 40560 41060 92 9188 40560 41060 36 4839 6989 5428 22098 47048 47617 25522 671 92 20427 25148 41060 36 42 4839 25606 35524 2 1 1 1 1 1 1 1 1 1 1 1 1 1 1 1 1 1 1 1 1 1 1 1 1 1 1 1 1 1 1 1 1 1 1 1 1 1 1 1 1 1 1 1 1 1 1 1 1 1 1 1 1 1 1 1 1 1 1 1 1 1 1 1 1 1 1 1 1 1 1 1 1 1 1 1 1 1 1 1 1 1 1 1 1 1 1 1 1 1 1 1 1 1 1 1 1 1 1 1 1 1 1 1 1 1 1 1 1 1 1 1 1 1 1 1 1 1 1 1 1 1 1 1 1 1 1 1 1 1 1 1 1 1 1 1 1 1 1 1 1 1 1 1 1 1 1 1 1 1 1 1 1 1 1 1 1 1 1 1 1 1 1 1 1 1 1 1 1 1 1 1 1 1 1 1 1 1 1 1 1 1 1 1 1 1 1 1 1 1 1 1 1 1 1 1 1 1 1 1 1 1 1 1 1 1 1 1 1 1 1 1 1 1 1 1 1 1 1 1 1 1 1 1 1 1 1 1 1 1 1 1 1 1 1 1 1 1 1 1 1 1 1 1 1 1 1 1 1 1 1 1 1 1 1 1 1 1 1 1 1 1 1 1 1 1 1 1 1 1 1 1 1 1 1 1 1 1 1 1 1 1 1 1 1 1 1 1 1 1 1 1 1 1 1 1 1 1 1 1 1 1 1 1 1 1 1 1 1 1 1 1 1 1 1 1 1 1 1 1 1 1 1 1 1 1 1 1 1 1 1 1 1 1 1 1 1 1 1 1 1 1 1 1 1 1 1 1 1 1 1 1 1 1 1\n",
            "INFO:__main__:source_mask: 1 1 1 1 1 1 1 1 1 1 1 1 1 1 1 1 1 1 1 1 1 1 1 1 1 1 1 1 1 1 1 1 1 1 1 1 1 1 1 1 1 1 1 1 1 1 1 1 1 1 0 0 0 0 0 0 0 0 0 0 0 0 0 0 0 0 0 0 0 0 0 0 0 0 0 0 0 0 0 0 0 0 0 0 0 0 0 0 0 0 0 0 0 0 0 0 0 0 0 0 0 0 0 0 0 0 0 0 0 0 0 0 0 0 0 0 0 0 0 0 0 0 0 0 0 0 0 0 0 0 0 0 0 0 0 0 0 0 0 0 0 0 0 0 0 0 0 0 0 0 0 0 0 0 0 0 0 0 0 0 0 0 0 0 0 0 0 0 0 0 0 0 0 0 0 0 0 0 0 0 0 0 0 0 0 0 0 0 0 0 0 0 0 0 0 0 0 0 0 0 0 0 0 0 0 0 0 0 0 0 0 0 0 0 0 0 0 0 0 0 0 0 0 0 0 0 0 0 0 0 0 0 0 0 0 0 0 0 0 0 0 0 0 0 0 0 0 0 0 0 0 0 0 0 0 0 0 0 0 0 0 0 0 0 0 0 0 0 0 0 0 0 0 0 0 0 0 0 0 0 0 0 0 0 0 0 0 0 0 0 0 0 0 0 0 0 0 0 0 0 0 0 0 0 0 0 0 0 0 0 0 0 0 0 0 0 0 0 0 0 0 0 0 0 0 0 0 0 0 0 0 0 0 0 0 0 0 0 0 0 0 0 0 0 0 0 0 0 0 0 0 0 0 0 0 0 0 0 0 0 0 0 0 0 0 0 0 0 0 0 0 0 0 0 0 0 0 0 0 0 0 0 0 0 0 0 0 0 0 0 0 0 0 0 0 0 0 0 0 0 0 0 0 0\n",
            "INFO:__main__:target_tokens: ['<s>', 'What', '_performs', '_a', '_copy', '_of', '_the', '_source', '_to', '_the', '_result', '_?', '</s>']\n",
            "INFO:__main__:target_ids: 0 2264 14023 10 5375 9 5 1300 7 5 898 17487 2 1 1 1 1 1 1 1 1 1 1 1 1 1 1 1 1 1 1 1 1 1 1 1 1 1 1 1 1 1 1 1 1 1 1 1 1 1 1 1\n",
            "INFO:__main__:target_mask: 1 1 1 1 1 1 1 1 1 1 1 1 1 0 0 0 0 0 0 0 0 0 0 0 0 0 0 0 0 0 0 0 0 0 0 0 0 0 0 0 0 0 0 0 0 0 0 0 0 0 0 0\n",
            "INFO:__main__:*** Example ***\n",
            "INFO:__main__:idx: 3\n",
            "INFO:__main__:source_tokens: ['<s>', 'a', '_copy', '_of', '_the', '_source', '</s>', 'create', '_a', '_new', '_transformer', '_object', '_that', '_performs', '_a', '_copy', '_of', '_the', '_source', '_to', '_the', '_result', '_.', '</s>', 'public', '_Tem', 'plates', '_Handler', '_new', '_Tem', 'plates', '_Handler', '_(', '_)', '_throws', '_Trans', 'former', '_Configuration', '_Exception', '_{', '_return', '_new', '_Styles', 'heet', '_Handler', '_(', '_this', '_)', '_;', '_}', '</s>']\n",
            "INFO:__main__:source_ids: 0 102 5375 9 5 1300 2 32845 10 92 40878 7626 14 14023 10 5375 9 5 1300 7 5 898 479 2 15110 9188 40560 41060 92 9188 40560 41060 36 4839 6989 5428 22098 47048 47617 25522 671 92 20427 25148 41060 36 42 4839 25606 35524 2 1 1 1 1 1 1 1 1 1 1 1 1 1 1 1 1 1 1 1 1 1 1 1 1 1 1 1 1 1 1 1 1 1 1 1 1 1 1 1 1 1 1 1 1 1 1 1 1 1 1 1 1 1 1 1 1 1 1 1 1 1 1 1 1 1 1 1 1 1 1 1 1 1 1 1 1 1 1 1 1 1 1 1 1 1 1 1 1 1 1 1 1 1 1 1 1 1 1 1 1 1 1 1 1 1 1 1 1 1 1 1 1 1 1 1 1 1 1 1 1 1 1 1 1 1 1 1 1 1 1 1 1 1 1 1 1 1 1 1 1 1 1 1 1 1 1 1 1 1 1 1 1 1 1 1 1 1 1 1 1 1 1 1 1 1 1 1 1 1 1 1 1 1 1 1 1 1 1 1 1 1 1 1 1 1 1 1 1 1 1 1 1 1 1 1 1 1 1 1 1 1 1 1 1 1 1 1 1 1 1 1 1 1 1 1 1 1 1 1 1 1 1 1 1 1 1 1 1 1 1 1 1 1 1 1 1 1 1 1 1 1 1 1 1 1 1 1 1 1 1 1 1 1 1 1 1 1 1 1 1 1 1 1 1 1 1 1 1 1 1 1 1 1 1 1 1 1 1 1 1 1 1 1 1 1 1 1 1 1 1 1 1 1 1 1 1 1 1 1 1 1 1 1 1 1 1 1 1 1 1 1 1 1 1 1 1 1 1 1 1 1 1 1 1 1 1 1 1 1 1 1 1 1 1 1 1 1 1 1 1 1 1 1 1 1 1 1 1 1 1 1 1 1\n",
            "INFO:__main__:source_mask: 1 1 1 1 1 1 1 1 1 1 1 1 1 1 1 1 1 1 1 1 1 1 1 1 1 1 1 1 1 1 1 1 1 1 1 1 1 1 1 1 1 1 1 1 1 1 1 1 1 1 1 0 0 0 0 0 0 0 0 0 0 0 0 0 0 0 0 0 0 0 0 0 0 0 0 0 0 0 0 0 0 0 0 0 0 0 0 0 0 0 0 0 0 0 0 0 0 0 0 0 0 0 0 0 0 0 0 0 0 0 0 0 0 0 0 0 0 0 0 0 0 0 0 0 0 0 0 0 0 0 0 0 0 0 0 0 0 0 0 0 0 0 0 0 0 0 0 0 0 0 0 0 0 0 0 0 0 0 0 0 0 0 0 0 0 0 0 0 0 0 0 0 0 0 0 0 0 0 0 0 0 0 0 0 0 0 0 0 0 0 0 0 0 0 0 0 0 0 0 0 0 0 0 0 0 0 0 0 0 0 0 0 0 0 0 0 0 0 0 0 0 0 0 0 0 0 0 0 0 0 0 0 0 0 0 0 0 0 0 0 0 0 0 0 0 0 0 0 0 0 0 0 0 0 0 0 0 0 0 0 0 0 0 0 0 0 0 0 0 0 0 0 0 0 0 0 0 0 0 0 0 0 0 0 0 0 0 0 0 0 0 0 0 0 0 0 0 0 0 0 0 0 0 0 0 0 0 0 0 0 0 0 0 0 0 0 0 0 0 0 0 0 0 0 0 0 0 0 0 0 0 0 0 0 0 0 0 0 0 0 0 0 0 0 0 0 0 0 0 0 0 0 0 0 0 0 0 0 0 0 0 0 0 0 0 0 0 0 0 0 0 0 0 0 0 0 0 0 0 0 0 0 0 0 0 0 0 0 0 0 0 0 0 0 0 0 0 0 0 0 0 0 0 0\n",
            "INFO:__main__:target_tokens: ['<s>', 'What', '_does', '_a', '_new', '_transformer', '_object', '_perform', '_to', '_the', '_result', '_?', '</s>']\n",
            "INFO:__main__:target_ids: 0 2264 473 10 92 40878 7626 3008 7 5 898 17487 2 1 1 1 1 1 1 1 1 1 1 1 1 1 1 1 1 1 1 1 1 1 1 1 1 1 1 1 1 1 1 1 1 1 1 1 1 1 1 1\n",
            "INFO:__main__:target_mask: 1 1 1 1 1 1 1 1 1 1 1 1 1 0 0 0 0 0 0 0 0 0 0 0 0 0 0 0 0 0 0 0 0 0 0 0 0 0 0 0 0 0 0 0 0 0 0 0 0 0 0 0\n",
            "INFO:__main__:*** Example ***\n",
            "INFO:__main__:idx: 4\n",
            "INFO:__main__:source_tokens: ['<s>', 'a', '_new', '_transformer', '_object', '_that', '_performs', '_a', '_copy', '_of', '_the', '_source', '_to', '_the', '_result', '</s>', 'create', '_a', '_new', '_transformer', '_object', '_that', '_performs', '_a', '_copy', '_of', '_the', '_source', '_to', '_the', '_result', '_.', '</s>', 'public', '_Tem', 'plates', '_Handler', '_new', '_Tem', 'plates', '_Handler', '_(', '_)', '_throws', '_Trans', 'former', '_Configuration', '_Exception', '_{', '_return', '_new', '_Styles', 'heet', '_Handler', '_(', '_this', '_)', '_;', '_}', '</s>']\n",
            "INFO:__main__:source_ids: 0 102 92 40878 7626 14 14023 10 5375 9 5 1300 7 5 898 2 32845 10 92 40878 7626 14 14023 10 5375 9 5 1300 7 5 898 479 2 15110 9188 40560 41060 92 9188 40560 41060 36 4839 6989 5428 22098 47048 47617 25522 671 92 20427 25148 41060 36 42 4839 25606 35524 2 1 1 1 1 1 1 1 1 1 1 1 1 1 1 1 1 1 1 1 1 1 1 1 1 1 1 1 1 1 1 1 1 1 1 1 1 1 1 1 1 1 1 1 1 1 1 1 1 1 1 1 1 1 1 1 1 1 1 1 1 1 1 1 1 1 1 1 1 1 1 1 1 1 1 1 1 1 1 1 1 1 1 1 1 1 1 1 1 1 1 1 1 1 1 1 1 1 1 1 1 1 1 1 1 1 1 1 1 1 1 1 1 1 1 1 1 1 1 1 1 1 1 1 1 1 1 1 1 1 1 1 1 1 1 1 1 1 1 1 1 1 1 1 1 1 1 1 1 1 1 1 1 1 1 1 1 1 1 1 1 1 1 1 1 1 1 1 1 1 1 1 1 1 1 1 1 1 1 1 1 1 1 1 1 1 1 1 1 1 1 1 1 1 1 1 1 1 1 1 1 1 1 1 1 1 1 1 1 1 1 1 1 1 1 1 1 1 1 1 1 1 1 1 1 1 1 1 1 1 1 1 1 1 1 1 1 1 1 1 1 1 1 1 1 1 1 1 1 1 1 1 1 1 1 1 1 1 1 1 1 1 1 1 1 1 1 1 1 1 1 1 1 1 1 1 1 1 1 1 1 1 1 1 1 1 1 1 1 1 1 1 1 1 1 1 1 1 1 1 1 1 1 1 1 1 1 1 1 1 1 1 1 1 1 1 1 1 1 1 1 1 1 1 1 1 1 1 1 1 1 1 1 1 1 1 1 1 1 1 1 1 1 1 1\n",
            "INFO:__main__:source_mask: 1 1 1 1 1 1 1 1 1 1 1 1 1 1 1 1 1 1 1 1 1 1 1 1 1 1 1 1 1 1 1 1 1 1 1 1 1 1 1 1 1 1 1 1 1 1 1 1 1 1 1 1 1 1 1 1 1 1 1 1 0 0 0 0 0 0 0 0 0 0 0 0 0 0 0 0 0 0 0 0 0 0 0 0 0 0 0 0 0 0 0 0 0 0 0 0 0 0 0 0 0 0 0 0 0 0 0 0 0 0 0 0 0 0 0 0 0 0 0 0 0 0 0 0 0 0 0 0 0 0 0 0 0 0 0 0 0 0 0 0 0 0 0 0 0 0 0 0 0 0 0 0 0 0 0 0 0 0 0 0 0 0 0 0 0 0 0 0 0 0 0 0 0 0 0 0 0 0 0 0 0 0 0 0 0 0 0 0 0 0 0 0 0 0 0 0 0 0 0 0 0 0 0 0 0 0 0 0 0 0 0 0 0 0 0 0 0 0 0 0 0 0 0 0 0 0 0 0 0 0 0 0 0 0 0 0 0 0 0 0 0 0 0 0 0 0 0 0 0 0 0 0 0 0 0 0 0 0 0 0 0 0 0 0 0 0 0 0 0 0 0 0 0 0 0 0 0 0 0 0 0 0 0 0 0 0 0 0 0 0 0 0 0 0 0 0 0 0 0 0 0 0 0 0 0 0 0 0 0 0 0 0 0 0 0 0 0 0 0 0 0 0 0 0 0 0 0 0 0 0 0 0 0 0 0 0 0 0 0 0 0 0 0 0 0 0 0 0 0 0 0 0 0 0 0 0 0 0 0 0 0 0 0 0 0 0 0 0 0 0 0 0 0 0 0 0 0 0 0 0 0 0 0 0 0 0 0 0 0 0 0 0 0 0 0 0 0 0 0 0 0 0 0 0\n",
            "INFO:__main__:target_tokens: ['<s>', 'What', '_does', '_the', '_code', '_create', '_?', '</s>']\n",
            "INFO:__main__:target_ids: 0 2264 473 5 3260 1045 17487 2 1 1 1 1 1 1 1 1 1 1 1 1 1 1 1 1 1 1 1 1 1 1 1 1 1 1 1 1 1 1 1 1 1 1 1 1 1 1 1 1 1 1 1 1\n",
            "INFO:__main__:target_mask: 1 1 1 1 1 1 1 1 0 0 0 0 0 0 0 0 0 0 0 0 0 0 0 0 0 0 0 0 0 0 0 0 0 0 0 0 0 0 0 0 0 0 0 0 0 0 0 0 0 0 0 0\n",
            "/usr/local/lib/python3.8/dist-packages/transformers/optimization.py:306: FutureWarning: This implementation of AdamW is deprecated and will be removed in a future version. Use the PyTorch implementation torch.optim.AdamW instead, or set `no_deprecation_warning=True` to disable this warning\n",
            "  warnings.warn(\n",
            "INFO:__main__:***** Running training *****\n",
            "INFO:__main__:  Num examples = 66514\n",
            "INFO:__main__:  Batch size = 64\n",
            "INFO:__main__:  Num epoch = 20\n",
            "epoch 0 loss 4.4172: 100% 1040/1040 [21:30<00:00,  1.24s/it]\n",
            "INFO:__main__:\n",
            "***** Running evaluation *****\n",
            "INFO:__main__:  Num examples = 8314\n",
            "INFO:__main__:  Batch size = 64\n",
            "INFO:__main__:  eval_ppl = 13.73764\n",
            "INFO:__main__:  global_step = 1041\n",
            "INFO:__main__:  train_loss = 4.4172\n",
            "INFO:__main__:  ********************\n",
            "INFO:__main__:  Best ppl:13.73764\n",
            "INFO:__main__:  ********************\n",
            "INFO:__main__:dev set: bleu = 41.66 | rouge_l = 59.93 | meteor = 23.82 | EM = 19.50 | Precision = 70.85 | Recall = 57.44 | F1 = 61.87 | \n",
            "INFO:__main__:  ********************\n",
            "INFO:__main__:  Best bleu:41.6575884300788\n",
            "INFO:__main__:  ********************\n",
            "epoch 1 loss 1.8857: 100% 1040/1040 [21:29<00:00,  1.24s/it]\n",
            "INFO:__main__:\n",
            "***** Running evaluation *****\n",
            "INFO:__main__:  Num examples = 8314\n",
            "INFO:__main__:  Batch size = 64\n",
            "INFO:__main__:  eval_ppl = 3.14722\n",
            "INFO:__main__:  global_step = 2081\n",
            "INFO:__main__:  train_loss = 1.8857\n",
            "INFO:__main__:  ********************\n",
            "INFO:__main__:  Best ppl:3.14722\n",
            "INFO:__main__:  ********************\n",
            "INFO:__main__:dev set: bleu = 62.95 | rouge_l = 79.16 | meteor = 39.09 | EM = 38.90 | Precision = 87.48 | Recall = 78.16 | F1 = 80.94 | \n",
            "INFO:__main__:  ********************\n",
            "INFO:__main__:  Best bleu:62.94963977472348\n",
            "INFO:__main__:  ********************\n",
            "epoch 2 loss 0.8504: 100% 1040/1040 [21:28<00:00,  1.24s/it]\n",
            "INFO:__main__:\n",
            "***** Running evaluation *****\n",
            "INFO:__main__:  Num examples = 8314\n",
            "INFO:__main__:  Batch size = 64\n",
            "INFO:__main__:  eval_ppl = 1.82803\n",
            "INFO:__main__:  global_step = 3121\n",
            "INFO:__main__:  train_loss = 0.8504\n",
            "INFO:__main__:  ********************\n",
            "INFO:__main__:  Best ppl:1.82803\n",
            "INFO:__main__:  ********************\n",
            "INFO:__main__:dev set: bleu = 74.73 | rouge_l = 86.40 | meteor = 48.17 | EM = 52.40 | Precision = 90.38 | Recall = 86.99 | F1 = 87.50 | \n",
            "INFO:__main__:  ********************\n",
            "INFO:__main__:  Best bleu:74.73494199598323\n",
            "INFO:__main__:  ********************\n",
            "epoch 3 loss 0.4443: 100% 1040/1040 [21:29<00:00,  1.24s/it]\n",
            "INFO:__main__:\n",
            "***** Running evaluation *****\n",
            "INFO:__main__:  Num examples = 8314\n",
            "INFO:__main__:  Batch size = 64\n",
            "INFO:__main__:  eval_ppl = 1.54339\n",
            "INFO:__main__:  global_step = 4161\n",
            "INFO:__main__:  train_loss = 0.4443\n",
            "INFO:__main__:  ********************\n",
            "INFO:__main__:  Best ppl:1.54339\n",
            "INFO:__main__:  ********************\n",
            "INFO:__main__:dev set: bleu = 81.41 | rouge_l = 90.16 | meteor = 54.03 | EM = 62.80 | Precision = 92.61 | Recall = 91.16 | F1 = 90.96 | \n",
            "INFO:__main__:  ********************\n",
            "INFO:__main__:  Best bleu:81.40540912125778\n",
            "INFO:__main__:  ********************\n",
            "epoch 4 loss 0.2849: 100% 1040/1040 [21:28<00:00,  1.24s/it]\n",
            "INFO:__main__:\n",
            "***** Running evaluation *****\n",
            "INFO:__main__:  Num examples = 8314\n",
            "INFO:__main__:  Batch size = 64\n",
            "INFO:__main__:  eval_ppl = 1.47112\n",
            "INFO:__main__:  global_step = 5201\n",
            "INFO:__main__:  train_loss = 0.2849\n",
            "INFO:__main__:  ********************\n",
            "INFO:__main__:  Best ppl:1.47112\n",
            "INFO:__main__:  ********************\n",
            "INFO:__main__:dev set: bleu = 81.94 | rouge_l = 90.16 | meteor = 54.60 | EM = 63.30 | Precision = 91.69 | Recall = 91.75 | F1 = 90.83 | \n",
            "INFO:__main__:  ********************\n",
            "INFO:__main__:  Best bleu:81.94255387698573\n",
            "INFO:__main__:  ********************\n",
            "epoch 5 loss 0.2003: 100% 1040/1040 [21:29<00:00,  1.24s/it]\n",
            "INFO:__main__:\n",
            "***** Running evaluation *****\n",
            "INFO:__main__:  Num examples = 8314\n",
            "INFO:__main__:  Batch size = 64\n",
            "INFO:__main__:  eval_ppl = 1.43803\n",
            "INFO:__main__:  global_step = 6241\n",
            "INFO:__main__:  train_loss = 0.2003\n",
            "INFO:__main__:  ********************\n",
            "INFO:__main__:  Best ppl:1.43803\n",
            "INFO:__main__:  ********************\n",
            "INFO:__main__:dev set: bleu = 82.90 | rouge_l = 90.66 | meteor = 55.99 | EM = 66.50 | Precision = 91.71 | Recall = 92.60 | F1 = 91.19 | \n",
            "INFO:__main__:  ********************\n",
            "INFO:__main__:  Best bleu:82.90011338314501\n",
            "INFO:__main__:  ********************\n",
            "epoch 6 loss 0.153: 100% 1040/1040 [21:29<00:00,  1.24s/it]\n",
            "INFO:__main__:\n",
            "***** Running evaluation *****\n",
            "INFO:__main__:  Num examples = 8314\n",
            "INFO:__main__:  Batch size = 64\n",
            "INFO:__main__:  eval_ppl = 1.38252\n",
            "INFO:__main__:  global_step = 7281\n",
            "INFO:__main__:  train_loss = 0.153\n",
            "INFO:__main__:  ********************\n",
            "INFO:__main__:  Best ppl:1.38252\n",
            "INFO:__main__:  ********************\n",
            "INFO:__main__:dev set: bleu = 84.74 | rouge_l = 91.55 | meteor = 56.90 | EM = 70.30 | Precision = 93.21 | Recall = 92.65 | F1 = 92.10 | \n",
            "INFO:__main__:  ********************\n",
            "INFO:__main__:  Best bleu:84.74139753404445\n",
            "INFO:__main__:  ********************\n",
            "epoch 7 loss 0.1148: 100% 1040/1040 [21:29<00:00,  1.24s/it]\n",
            "INFO:__main__:\n",
            "***** Running evaluation *****\n",
            "INFO:__main__:  Num examples = 8314\n",
            "INFO:__main__:  Batch size = 64\n",
            "INFO:__main__:  eval_ppl = 1.38895\n",
            "INFO:__main__:  global_step = 8321\n",
            "INFO:__main__:  train_loss = 0.1148\n",
            "INFO:__main__:  ********************\n",
            "INFO:__main__:dev set: bleu = 84.85 | rouge_l = 91.62 | meteor = 57.02 | EM = 70.50 | Precision = 93.03 | Recall = 92.83 | F1 = 92.06 | \n",
            "INFO:__main__:  ********************\n",
            "INFO:__main__:  Best bleu:84.85389256446054\n",
            "INFO:__main__:  ********************\n",
            "epoch 8 loss 0.0936: 100% 1040/1040 [21:29<00:00,  1.24s/it]\n",
            "INFO:__main__:\n",
            "***** Running evaluation *****\n",
            "INFO:__main__:  Num examples = 8314\n",
            "INFO:__main__:  Batch size = 64\n",
            "INFO:__main__:  eval_ppl = 1.4018\n",
            "INFO:__main__:  global_step = 9361\n",
            "INFO:__main__:  train_loss = 0.0936\n",
            "INFO:__main__:  ********************\n",
            "INFO:__main__:dev set: bleu = 85.58 | rouge_l = 92.11 | meteor = 58.21 | EM = 70.60 | Precision = 93.14 | Recall = 93.52 | F1 = 92.65 | \n",
            "INFO:__main__:  ********************\n",
            "INFO:__main__:  Best bleu:85.57754754539538\n",
            "INFO:__main__:  ********************\n",
            "epoch 9 loss 0.0728: 100% 1040/1040 [21:29<00:00,  1.24s/it]\n",
            "INFO:__main__:\n",
            "***** Running evaluation *****\n",
            "INFO:__main__:  Num examples = 8314\n",
            "INFO:__main__:  Batch size = 64\n",
            "INFO:__main__:  eval_ppl = 1.40076\n",
            "INFO:__main__:  global_step = 10401\n",
            "INFO:__main__:  train_loss = 0.0728\n",
            "INFO:__main__:  ********************\n",
            "INFO:__main__:dev set: bleu = 86.28 | rouge_l = 92.42 | meteor = 58.36 | EM = 73.00 | Precision = 93.90 | Recall = 93.45 | F1 = 93.00 | \n",
            "INFO:__main__:  ********************\n",
            "INFO:__main__:  Best bleu:86.28442119233637\n",
            "INFO:__main__:  ********************\n",
            "epoch 10 loss 0.0593: 100% 1040/1040 [21:29<00:00,  1.24s/it]\n",
            "INFO:__main__:\n",
            "***** Running evaluation *****\n",
            "INFO:__main__:  Num examples = 8314\n",
            "INFO:__main__:  Batch size = 64\n",
            "INFO:__main__:  eval_ppl = 1.39467\n",
            "INFO:__main__:  global_step = 11441\n",
            "INFO:__main__:  train_loss = 0.0593\n",
            "INFO:__main__:  ********************\n",
            "INFO:__main__:dev set: bleu = 85.66 | rouge_l = 92.01 | meteor = 57.91 | EM = 71.80 | Precision = 93.67 | Recall = 93.12 | F1 = 92.65 | \n",
            "INFO:__main__:  ********************\n",
            "epoch 11 loss 0.0452: 100% 1040/1040 [21:29<00:00,  1.24s/it]\n",
            "INFO:__main__:\n",
            "***** Running evaluation *****\n",
            "INFO:__main__:  Num examples = 8314\n",
            "INFO:__main__:  Batch size = 64\n",
            "INFO:__main__:  eval_ppl = 1.42173\n",
            "INFO:__main__:  global_step = 12481\n",
            "INFO:__main__:  train_loss = 0.0452\n",
            "INFO:__main__:  ********************\n",
            "INFO:__main__:dev set: bleu = 85.78 | rouge_l = 92.24 | meteor = 58.15 | EM = 72.10 | Precision = 93.39 | Recall = 93.72 | F1 = 92.75 | \n",
            "INFO:__main__:  ********************\n",
            "epoch 12 loss 0.0367: 100% 1040/1040 [21:29<00:00,  1.24s/it]\n",
            "INFO:__main__:\n",
            "***** Running evaluation *****\n",
            "INFO:__main__:  Num examples = 8314\n",
            "INFO:__main__:  Batch size = 64\n",
            "INFO:__main__:  eval_ppl = 1.43185\n",
            "INFO:__main__:  global_step = 13521\n",
            "INFO:__main__:  train_loss = 0.0367\n",
            "INFO:__main__:  ********************\n",
            "INFO:__main__:dev set: bleu = 86.00 | rouge_l = 92.32 | meteor = 58.37 | EM = 72.90 | Precision = 93.79 | Recall = 93.48 | F1 = 92.88 | \n",
            "INFO:__main__:  ********************\n",
            "epoch 13 loss 0.0298: 100% 1040/1040 [21:30<00:00,  1.24s/it]\n",
            "INFO:__main__:\n",
            "***** Running evaluation *****\n",
            "INFO:__main__:  Num examples = 8314\n",
            "INFO:__main__:  Batch size = 64\n",
            "INFO:__main__:  eval_ppl = 1.42173\n",
            "INFO:__main__:  global_step = 14561\n",
            "INFO:__main__:  train_loss = 0.0298\n",
            "INFO:__main__:  ********************\n",
            "INFO:__main__:dev set: bleu = 86.30 | rouge_l = 92.48 | meteor = 58.83 | EM = 72.80 | Precision = 93.44 | Recall = 94.01 | F1 = 93.02 | \n",
            "INFO:__main__:  ********************\n",
            "INFO:__main__:  Best bleu:86.3014196057694\n",
            "INFO:__main__:  ********************\n",
            "epoch 14 loss 0.0237: 100% 1040/1040 [21:30<00:00,  1.24s/it]\n",
            "INFO:__main__:\n",
            "***** Running evaluation *****\n",
            "INFO:__main__:  Num examples = 8314\n",
            "INFO:__main__:  Batch size = 64\n",
            "INFO:__main__:  eval_ppl = 1.43724\n",
            "INFO:__main__:  global_step = 15601\n",
            "INFO:__main__:  train_loss = 0.0237\n",
            "INFO:__main__:  ********************\n",
            "INFO:__main__:dev set: bleu = 86.38 | rouge_l = 92.65 | meteor = 59.00 | EM = 72.90 | Precision = 93.90 | Recall = 93.98 | F1 = 93.23 | \n",
            "INFO:__main__:  ********************\n",
            "INFO:__main__:  Best bleu:86.37543107333909\n",
            "INFO:__main__:  ********************\n",
            "epoch 15 loss 0.0193: 100% 1040/1040 [21:30<00:00,  1.24s/it]\n",
            "INFO:__main__:\n",
            "***** Running evaluation *****\n",
            "INFO:__main__:  Num examples = 8314\n",
            "INFO:__main__:  Batch size = 64\n",
            "INFO:__main__:  eval_ppl = 1.45483\n",
            "INFO:__main__:  global_step = 16641\n",
            "INFO:__main__:  train_loss = 0.0193\n",
            "INFO:__main__:  ********************\n",
            "INFO:__main__:dev set: bleu = 86.44 | rouge_l = 92.67 | meteor = 59.09 | EM = 72.60 | Precision = 93.87 | Recall = 94.12 | F1 = 93.25 | \n",
            "INFO:__main__:  ********************\n",
            "INFO:__main__:  Best bleu:86.44312369868639\n",
            "INFO:__main__:  ********************\n",
            "epoch 16 loss 0.0161: 100% 1040/1040 [21:30<00:00,  1.24s/it]\n",
            "INFO:__main__:\n",
            "***** Running evaluation *****\n",
            "INFO:__main__:  Num examples = 8314\n",
            "INFO:__main__:  Batch size = 64\n",
            "INFO:__main__:  eval_ppl = 1.44596\n",
            "INFO:__main__:  global_step = 17681\n",
            "INFO:__main__:  train_loss = 0.0161\n",
            "INFO:__main__:  ********************\n",
            "INFO:__main__:dev set: bleu = 86.96 | rouge_l = 92.83 | meteor = 59.23 | EM = 73.90 | Precision = 94.00 | Recall = 94.11 | F1 = 93.36 | \n",
            "INFO:__main__:  ********************\n",
            "INFO:__main__:  Best bleu:86.96120055789908\n",
            "INFO:__main__:  ********************\n",
            "epoch 17 loss 0.0129: 100% 1040/1040 [21:30<00:00,  1.24s/it]\n",
            "INFO:__main__:\n",
            "***** Running evaluation *****\n",
            "INFO:__main__:  Num examples = 8314\n",
            "INFO:__main__:  Batch size = 64\n",
            "INFO:__main__:  eval_ppl = 1.46851\n",
            "INFO:__main__:  global_step = 18721\n",
            "INFO:__main__:  train_loss = 0.0129\n",
            "INFO:__main__:  ********************\n",
            "INFO:__main__:dev set: bleu = 86.68 | rouge_l = 92.73 | meteor = 59.34 | EM = 73.50 | Precision = 93.97 | Recall = 94.10 | F1 = 93.31 | \n",
            "INFO:__main__:  ********************\n",
            "epoch 18 loss 0.0105: 100% 1040/1040 [21:30<00:00,  1.24s/it]\n",
            "INFO:__main__:\n",
            "***** Running evaluation *****\n",
            "INFO:__main__:  Num examples = 8314\n",
            "INFO:__main__:  Batch size = 64\n",
            "INFO:__main__:  eval_ppl = 1.45877\n",
            "INFO:__main__:  global_step = 19761\n",
            "INFO:__main__:  train_loss = 0.0105\n",
            "INFO:__main__:  ********************\n",
            "INFO:__main__:dev set: bleu = 86.97 | rouge_l = 92.85 | meteor = 59.41 | EM = 74.10 | Precision = 94.07 | Recall = 94.10 | F1 = 93.40 | \n",
            "INFO:__main__:  ********************\n",
            "INFO:__main__:  Best bleu:86.96598010623482\n",
            "INFO:__main__:  ********************\n",
            "epoch 19 loss 0.0086: 100% 1040/1040 [21:29<00:00,  1.24s/it]\n",
            "INFO:__main__:\n",
            "***** Running evaluation *****\n",
            "INFO:__main__:  Num examples = 8314\n",
            "INFO:__main__:  Batch size = 64\n",
            "INFO:__main__:  eval_ppl = 1.46997\n",
            "INFO:__main__:  global_step = 20801\n",
            "INFO:__main__:  train_loss = 0.0086\n",
            "INFO:__main__:  ********************\n",
            "INFO:__main__:dev set: bleu = 86.78 | rouge_l = 92.71 | meteor = 59.43 | EM = 73.70 | Precision = 93.98 | Recall = 93.96 | F1 = 93.29 | \n",
            "INFO:__main__:  ********************\n",
            "INFO:__main__:\n",
            "***** Running Test *****\n",
            "INFO:__main__:Test file: ../data1/test/\n",
            "100% 130/130 [16:14<00:00,  7.49s/it]\n",
            "INFO:__main__:test set: bleu = 88.45 | rouge_l = 93.88 | meteor = 61.00 | EM = 75.66 | Precision = 94.56 | Recall = 95.34 | F1 = 94.35 | \n",
            "INFO:__main__:  ********************\n"
          ]
        }
      ]
    },
    {
      "cell_type": "markdown",
      "source": [
        "Execute the following shell if you want to load model that has been build and run test. You don't need to run it again becuase test has been carried out in above execution."
      ],
      "metadata": {
        "id": "fKHFKQE7UbhL"
      }
    },
    {
      "cell_type": "code",
      "source": [
        "# Run the Test\n",
        "#!bash java_script_test.sh 0 cbQG"
      ],
      "metadata": {
        "id": "ghuwcDAaOr6F"
      },
      "execution_count": null,
      "outputs": []
    },
    {
      "cell_type": "markdown",
      "source": [
        "Zip the output so that you can download all files at once"
      ],
      "metadata": {
        "id": "B37CzUi2pqiF"
      }
    },
    {
      "cell_type": "code",
      "source": [
        "#!zip -r /content/file.zip /content/folder_to_zip\n",
        "!zip -r /content/CbQg-ACC.zip /content/codeBERT-QG/output/CbQG-ACC\n"
      ],
      "metadata": {
        "id": "0oYlpgK_pw6E",
        "colab": {
          "base_uri": "https://localhost:8080/"
        },
        "outputId": "862eb4f2-a271-4a3c-ee39-ad29328a309d"
      },
      "execution_count": 8,
      "outputs": [
        {
          "output_type": "stream",
          "name": "stdout",
          "text": [
            "  adding: content/codeBERT-QG/output/CbQG-ACC/ (stored 0%)\n",
            "  adding: content/codeBERT-QG/output/CbQG-ACC/test_0.gold (deflated 72%)\n",
            "  adding: content/codeBERT-QG/output/CbQG-ACC/checkpoint-best-ppl/ (stored 0%)\n",
            "  adding: content/codeBERT-QG/output/CbQG-ACC/checkpoint-best-ppl/pytorch_model.bin (deflated 10%)\n",
            "  adding: content/codeBERT-QG/output/CbQG-ACC/dev.gold (deflated 66%)\n",
            "  adding: content/codeBERT-QG/output/CbQG-ACC/log.txt (deflated 88%)\n",
            "  adding: content/codeBERT-QG/output/CbQG-ACC/test_0.output (deflated 72%)\n",
            "  adding: content/codeBERT-QG/output/CbQG-ACC/dev.output (deflated 66%)\n",
            "  adding: content/codeBERT-QG/output/CbQG-ACC/checkpoint-last/ (stored 0%)\n",
            "  adding: content/codeBERT-QG/output/CbQG-ACC/checkpoint-last/pytorch_model.bin (deflated 10%)\n",
            "  adding: content/codeBERT-QG/output/CbQG-ACC/checkpoint-best-bleu/ (stored 0%)\n",
            "  adding: content/codeBERT-QG/output/CbQG-ACC/checkpoint-best-bleu/pytorch_model.bin (deflated 10%)\n"
          ]
        }
      ]
    },
    {
      "cell_type": "markdown",
      "source": [
        "Following code helps you to copy your output to your goole drive"
      ],
      "metadata": {
        "id": "306nwvv_qtg1"
      }
    },
    {
      "cell_type": "code",
      "source": [
        "# mount it\n",
        "from google.colab import drive\n",
        "drive.mount('/content/drive')\n",
        "# copy it there\n",
        "!cp /content/CbQg-ACC.zip /content/drive/MyDrive/output"
      ],
      "metadata": {
        "id": "EmGUz8mwq04v",
        "colab": {
          "base_uri": "https://localhost:8080/"
        },
        "outputId": "d2200fb3-1fff-43d0-e557-b206a70a02cf"
      },
      "execution_count": 9,
      "outputs": [
        {
          "output_type": "stream",
          "name": "stdout",
          "text": [
            "Mounted at /content/drive\n"
          ]
        }
      ]
    },
    {
      "cell_type": "markdown",
      "source": [
        "Execute following command if need inforamtion of system used for training."
      ],
      "metadata": {
        "id": "16oSLV0dUunh"
      }
    },
    {
      "cell_type": "code",
      "source": [
        "#use this command to see GPU activity while doing Deep Learning tasks, for this command 'nvidia-smi' and for above one to work, go to 'Runtime > change runtime type > Hardware Accelerator > GPU'\n",
        "!nvidia-smi\n",
        "!nvidia-smi -L\n",
        "!lscpu |grep 'Model name'\n",
        "#no.of cores each processor is having \n",
        "!lscpu | grep 'Core(s) per socket:'\n",
        "#memory that we can use\n",
        "!free -h --si | awk  '/Mem:/{print $2}'\n",
        "#hard disk space that we can use\n",
        "!df -h / | awk '{print $4}'\n",
        "#no.of sockets i.e available slots for physical processors\n",
        "!lscpu | grep 'Socket(s):'\n",
        "!lscpu | grep \"L3 cache\" \n",
        "#if it had turbo boost it would've shown Min and Max MHz also but it is only showing current frequency this means it always operates at shown frequency\n",
        "!lscpu | grep \"MHz\""
      ],
      "metadata": {
        "id": "jloTmRB9Ka16",
        "outputId": "d917cd28-f86a-4925-c8ba-bfe411b746c4",
        "colab": {
          "base_uri": "https://localhost:8080/"
        }
      },
      "execution_count": 10,
      "outputs": [
        {
          "output_type": "stream",
          "name": "stdout",
          "text": [
            "Wed Feb  8 16:53:51 2023       \n",
            "+-----------------------------------------------------------------------------+\n",
            "| NVIDIA-SMI 510.47.03    Driver Version: 510.47.03    CUDA Version: 11.6     |\n",
            "|-------------------------------+----------------------+----------------------+\n",
            "| GPU  Name        Persistence-M| Bus-Id        Disp.A | Volatile Uncorr. ECC |\n",
            "| Fan  Temp  Perf  Pwr:Usage/Cap|         Memory-Usage | GPU-Util  Compute M. |\n",
            "|                               |                      |               MIG M. |\n",
            "|===============================+======================+======================|\n",
            "|   0  NVIDIA A100-SXM...  Off  | 00000000:00:04.0 Off |                    0 |\n",
            "| N/A   33C    P0    48W / 350W |      0MiB / 40960MiB |      0%      Default |\n",
            "|                               |                      |             Disabled |\n",
            "+-------------------------------+----------------------+----------------------+\n",
            "                                                                               \n",
            "+-----------------------------------------------------------------------------+\n",
            "| Processes:                                                                  |\n",
            "|  GPU   GI   CI        PID   Type   Process name                  GPU Memory |\n",
            "|        ID   ID                                                   Usage      |\n",
            "|=============================================================================|\n",
            "|  No running processes found                                                 |\n",
            "+-----------------------------------------------------------------------------+\n",
            "GPU 0: NVIDIA A100-SXM4-40GB (UUID: GPU-b67d136a-6a26-0567-7409-5cdbc8a6d8be)\n",
            "Model name:                      Intel(R) Xeon(R) CPU @ 2.20GHz\n",
            "Core(s) per socket:              6\n",
            "85G\n",
            "Avail\n",
            "135G\n",
            "Socket(s):                       1\n",
            "L3 cache:                        38.5 MiB\n",
            "CPU MHz:                         2200.152\n"
          ]
        }
      ]
    }
  ]
}