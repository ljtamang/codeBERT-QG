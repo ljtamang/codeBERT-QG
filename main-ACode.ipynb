{
  "nbformat": 4,
  "nbformat_minor": 0,
  "metadata": {
    "colab": {
      "provenance": [],
      "machine_shape": "hm",
      "authorship_tag": "ABX9TyNBOeit+hfAZ7TyxA7ZgtW8",
      "include_colab_link": true
    },
    "kernelspec": {
      "name": "python3",
      "display_name": "Python 3"
    },
    "gpuClass": "premium",
    "accelerator": "GPU"
  },
  "cells": [
    {
      "cell_type": "markdown",
      "metadata": {
        "id": "view-in-github",
        "colab_type": "text"
      },
      "source": [
        "<a href=\"https://colab.research.google.com/github/ljtamang/codeBERT-QG/blob/master/main-ACode.ipynb\" target=\"_parent\"><img src=\"https://colab.research.google.com/assets/colab-badge.svg\" alt=\"Open In Colab\"/></a>"
      ]
    },
    {
      "cell_type": "markdown",
      "source": [
        "Install pacakages required for successfully running this project."
      ],
      "metadata": {
        "id": "IKKRzu4LYvvI"
      }
    },
    {
      "cell_type": "code",
      "source": [
        "!pip install torch\n",
        "!pip install transformers\n",
        "!pip install nltk\n",
        "!pip install psutil\n",
        "# !pip install h5py \n",
        "# !pip install typing-extensions \n",
        "# !pip install wheel \n",
        "!pip install blue"
      ],
      "metadata": {
        "colab": {
          "base_uri": "https://localhost:8080/"
        },
        "id": "Vv_8MJCYAgMW",
        "outputId": "c67f3039-6286-4ad2-b968-93a959b48323"
      },
      "execution_count": 1,
      "outputs": [
        {
          "output_type": "stream",
          "name": "stdout",
          "text": [
            "Looking in indexes: https://pypi.org/simple, https://us-python.pkg.dev/colab-wheels/public/simple/\n",
            "Requirement already satisfied: torch in /usr/local/lib/python3.8/dist-packages (1.13.1+cu116)\n",
            "Requirement already satisfied: typing-extensions in /usr/local/lib/python3.8/dist-packages (from torch) (4.4.0)\n",
            "Looking in indexes: https://pypi.org/simple, https://us-python.pkg.dev/colab-wheels/public/simple/\n",
            "Collecting transformers\n",
            "  Downloading transformers-4.26.0-py3-none-any.whl (6.3 MB)\n",
            "\u001b[2K     \u001b[90m━━━━━━━━━━━━━━━━━━━━━━━━━━━━━━━━━━━━━━━━\u001b[0m \u001b[32m6.3/6.3 MB\u001b[0m \u001b[31m53.7 MB/s\u001b[0m eta \u001b[36m0:00:00\u001b[0m\n",
            "\u001b[?25hCollecting tokenizers!=0.11.3,<0.14,>=0.11.1\n",
            "  Downloading tokenizers-0.13.2-cp38-cp38-manylinux_2_17_x86_64.manylinux2014_x86_64.whl (7.6 MB)\n",
            "\u001b[2K     \u001b[90m━━━━━━━━━━━━━━━━━━━━━━━━━━━━━━━━━━━━━━━━\u001b[0m \u001b[32m7.6/7.6 MB\u001b[0m \u001b[31m105.2 MB/s\u001b[0m eta \u001b[36m0:00:00\u001b[0m\n",
            "\u001b[?25hRequirement already satisfied: pyyaml>=5.1 in /usr/local/lib/python3.8/dist-packages (from transformers) (6.0)\n",
            "Requirement already satisfied: filelock in /usr/local/lib/python3.8/dist-packages (from transformers) (3.9.0)\n",
            "Requirement already satisfied: regex!=2019.12.17 in /usr/local/lib/python3.8/dist-packages (from transformers) (2022.6.2)\n",
            "Requirement already satisfied: packaging>=20.0 in /usr/local/lib/python3.8/dist-packages (from transformers) (23.0)\n",
            "Collecting huggingface-hub<1.0,>=0.11.0\n",
            "  Downloading huggingface_hub-0.12.0-py3-none-any.whl (190 kB)\n",
            "\u001b[2K     \u001b[90m━━━━━━━━━━━━━━━━━━━━━━━━━━━━━━━━━━━━━━\u001b[0m \u001b[32m190.3/190.3 KB\u001b[0m \u001b[31m24.1 MB/s\u001b[0m eta \u001b[36m0:00:00\u001b[0m\n",
            "\u001b[?25hRequirement already satisfied: numpy>=1.17 in /usr/local/lib/python3.8/dist-packages (from transformers) (1.21.6)\n",
            "Requirement already satisfied: tqdm>=4.27 in /usr/local/lib/python3.8/dist-packages (from transformers) (4.64.1)\n",
            "Requirement already satisfied: requests in /usr/local/lib/python3.8/dist-packages (from transformers) (2.25.1)\n",
            "Requirement already satisfied: typing-extensions>=3.7.4.3 in /usr/local/lib/python3.8/dist-packages (from huggingface-hub<1.0,>=0.11.0->transformers) (4.4.0)\n",
            "Requirement already satisfied: certifi>=2017.4.17 in /usr/local/lib/python3.8/dist-packages (from requests->transformers) (2022.12.7)\n",
            "Requirement already satisfied: chardet<5,>=3.0.2 in /usr/local/lib/python3.8/dist-packages (from requests->transformers) (4.0.0)\n",
            "Requirement already satisfied: idna<3,>=2.5 in /usr/local/lib/python3.8/dist-packages (from requests->transformers) (2.10)\n",
            "Requirement already satisfied: urllib3<1.27,>=1.21.1 in /usr/local/lib/python3.8/dist-packages (from requests->transformers) (1.24.3)\n",
            "Installing collected packages: tokenizers, huggingface-hub, transformers\n",
            "Successfully installed huggingface-hub-0.12.0 tokenizers-0.13.2 transformers-4.26.0\n",
            "Looking in indexes: https://pypi.org/simple, https://us-python.pkg.dev/colab-wheels/public/simple/\n",
            "Requirement already satisfied: nltk in /usr/local/lib/python3.8/dist-packages (3.7)\n",
            "Requirement already satisfied: joblib in /usr/local/lib/python3.8/dist-packages (from nltk) (1.2.0)\n",
            "Requirement already satisfied: click in /usr/local/lib/python3.8/dist-packages (from nltk) (7.1.2)\n",
            "Requirement already satisfied: tqdm in /usr/local/lib/python3.8/dist-packages (from nltk) (4.64.1)\n",
            "Requirement already satisfied: regex>=2021.8.3 in /usr/local/lib/python3.8/dist-packages (from nltk) (2022.6.2)\n",
            "Looking in indexes: https://pypi.org/simple, https://us-python.pkg.dev/colab-wheels/public/simple/\n",
            "Requirement already satisfied: psutil in /usr/local/lib/python3.8/dist-packages (5.4.8)\n",
            "Looking in indexes: https://pypi.org/simple, https://us-python.pkg.dev/colab-wheels/public/simple/\n",
            "Collecting blue\n",
            "  Downloading blue-0.9.1-py3-none-any.whl (10 kB)\n",
            "Collecting flake8<5.0.0,>=3.8\n",
            "  Downloading flake8-4.0.1-py2.py3-none-any.whl (64 kB)\n",
            "\u001b[2K     \u001b[90m━━━━━━━━━━━━━━━━━━━━━━━━━━━━━━━━━━━━━━━━\u001b[0m \u001b[32m64.1/64.1 KB\u001b[0m \u001b[31m3.2 MB/s\u001b[0m eta \u001b[36m0:00:00\u001b[0m\n",
            "\u001b[?25hCollecting black==22.1.0\n",
            "  Downloading black-22.1.0-cp38-cp38-manylinux_2_17_x86_64.manylinux2014_x86_64.whl (1.5 MB)\n",
            "\u001b[2K     \u001b[90m━━━━━━━━━━━━━━━━━━━━━━━━━━━━━━━━━━━━━━━━\u001b[0m \u001b[32m1.5/1.5 MB\u001b[0m \u001b[31m25.9 MB/s\u001b[0m eta \u001b[36m0:00:00\u001b[0m\n",
            "\u001b[?25hRequirement already satisfied: platformdirs>=2 in /usr/local/lib/python3.8/dist-packages (from black==22.1.0->blue) (2.6.2)\n",
            "Collecting pathspec>=0.9.0\n",
            "  Downloading pathspec-0.11.0-py3-none-any.whl (29 kB)\n",
            "Requirement already satisfied: tomli>=1.1.0 in /usr/local/lib/python3.8/dist-packages (from black==22.1.0->blue) (2.0.1)\n",
            "Requirement already satisfied: typing-extensions>=3.10.0.0 in /usr/local/lib/python3.8/dist-packages (from black==22.1.0->blue) (4.4.0)\n",
            "Collecting mypy-extensions>=0.4.3\n",
            "  Downloading mypy_extensions-1.0.0-py3-none-any.whl (4.7 kB)\n",
            "Collecting click>=8.0.0\n",
            "  Downloading click-8.1.3-py3-none-any.whl (96 kB)\n",
            "\u001b[2K     \u001b[90m━━━━━━━━━━━━━━━━━━━━━━━━━━━━━━━━━━━━━━━━\u001b[0m \u001b[32m96.6/96.6 KB\u001b[0m \u001b[31m13.8 MB/s\u001b[0m eta \u001b[36m0:00:00\u001b[0m\n",
            "\u001b[?25hCollecting pycodestyle<2.9.0,>=2.8.0\n",
            "  Downloading pycodestyle-2.8.0-py2.py3-none-any.whl (42 kB)\n",
            "\u001b[2K     \u001b[90m━━━━━━━━━━━━━━━━━━━━━━━━━━━━━━━━━━━━━━━━\u001b[0m \u001b[32m42.1/42.1 KB\u001b[0m \u001b[31m5.5 MB/s\u001b[0m eta \u001b[36m0:00:00\u001b[0m\n",
            "\u001b[?25hCollecting mccabe<0.7.0,>=0.6.0\n",
            "  Downloading mccabe-0.6.1-py2.py3-none-any.whl (8.6 kB)\n",
            "Collecting pyflakes<2.5.0,>=2.4.0\n",
            "  Downloading pyflakes-2.4.0-py2.py3-none-any.whl (69 kB)\n",
            "\u001b[2K     \u001b[90m━━━━━━━━━━━━━━━━━━━━━━━━━━━━━━━━━━━━━━━━\u001b[0m \u001b[32m69.7/69.7 KB\u001b[0m \u001b[31m10.7 MB/s\u001b[0m eta \u001b[36m0:00:00\u001b[0m\n",
            "\u001b[?25hInstalling collected packages: mccabe, pyflakes, pycodestyle, pathspec, mypy-extensions, click, flake8, black, blue\n",
            "  Attempting uninstall: click\n",
            "    Found existing installation: click 7.1.2\n",
            "    Uninstalling click-7.1.2:\n",
            "      Successfully uninstalled click-7.1.2\n",
            "\u001b[31mERROR: pip's dependency resolver does not currently take into account all the packages that are installed. This behaviour is the source of the following dependency conflicts.\n",
            "flask 1.1.4 requires click<8.0,>=5.1, but you have click 8.1.3 which is incompatible.\u001b[0m\u001b[31m\n",
            "\u001b[0mSuccessfully installed black-22.1.0 blue-0.9.1 click-8.1.3 flake8-4.0.1 mccabe-0.6.1 mypy-extensions-1.0.0 pathspec-0.11.0 pycodestyle-2.8.0 pyflakes-2.4.0\n"
          ]
        }
      ]
    },
    {
      "cell_type": "markdown",
      "source": [
        "Clone the source code and data used for this project from github repository"
      ],
      "metadata": {
        "id": "f6OLvA_lTB-t"
      }
    },
    {
      "cell_type": "code",
      "source": [
        "!git clone https://github.com/ljtamang/codeBERT-QG.git"
      ],
      "metadata": {
        "colab": {
          "base_uri": "https://localhost:8080/"
        },
        "id": "l694QXfL-Uxv",
        "outputId": "56f8f114-dbb7-4686-ce24-6eec07617896"
      },
      "execution_count": 2,
      "outputs": [
        {
          "output_type": "stream",
          "name": "stdout",
          "text": [
            "Cloning into 'codeBERT-QG'...\n",
            "remote: Enumerating objects: 361, done.\u001b[K\n",
            "remote: Counting objects: 100% (230/230), done.\u001b[K\n",
            "remote: Compressing objects: 100% (167/167), done.\u001b[K\n",
            "remote: Total 361 (delta 90), reused 171 (delta 56), pack-reused 131\u001b[K\n",
            "Receiving objects: 100% (361/361), 92.20 MiB | 20.76 MiB/s, done.\n",
            "Resolving deltas: 100% (159/159), done.\n"
          ]
        }
      ]
    },
    {
      "cell_type": "markdown",
      "source": [
        "Navigate inside the recently downloaded codeBERT-QG project folder"
      ],
      "metadata": {
        "id": "NUHSNiw5amwk"
      }
    },
    {
      "cell_type": "code",
      "source": [
        "%cd codeBERT-QG\n",
        "#%cd codeBERT-QG/code"
      ],
      "metadata": {
        "colab": {
          "base_uri": "https://localhost:8080/"
        },
        "id": "ZyA5rzWq9zsO",
        "outputId": "46dca054-9931-4992-a7f9-410dd05494e9"
      },
      "execution_count": 4,
      "outputs": [
        {
          "output_type": "stream",
          "name": "stdout",
          "text": [
            "/content/codeBERT-QG\n"
          ]
        }
      ]
    },
    {
      "cell_type": "code",
      "source": [],
      "metadata": {
        "id": "AeVRBiqIGCGe"
      },
      "execution_count": null,
      "outputs": []
    },
    {
      "cell_type": "markdown",
      "source": [
        "Run execute java_script.sh . This will take care of everything and the project should build the model, validate and test it too."
      ],
      "metadata": {
        "id": "Ed53PSxHT04D"
      }
    },
    {
      "cell_type": "code",
      "source": [
        "#when GPU 1 is available\n",
        "!bash java_script.sh 0 CbQg-ACode\n"
      ],
      "metadata": {
        "colab": {
          "base_uri": "https://localhost:8080/"
        },
        "id": "NKxlAA1JD9qi",
        "outputId": "0edb164a-39d7-48ed-f5da-233633af0428"
      },
      "execution_count": 5,
      "outputs": [
        {
          "output_type": "stream",
          "name": "stdout",
          "text": [
            "2023-02-09 07:15:29.679255: I tensorflow/core/util/util.cc:169] oneDNN custom operations are on. You may see slightly different numerical results due to floating-point round-off errors from different computation orders. To turn them off, set the environment variable `TF_ENABLE_ONEDNN_OPTS=0`.\n",
            "WARNING:__main__:Process rank: -1, device: cuda, n_gpu: 1, distributed training: False\n",
            "Downloading (…)lve/main/config.json: 100% 498/498 [00:00<00:00, 75.7kB/s]\n",
            "Downloading (…)olve/main/vocab.json: 100% 899k/899k [00:00<00:00, 5.29MB/s]\n",
            "Downloading (…)olve/main/merges.txt: 100% 456k/456k [00:00<00:00, 2.94MB/s]\n",
            "Downloading (…)cial_tokens_map.json: 100% 150/150 [00:00<00:00, 61.1kB/s]\n",
            "Downloading (…)okenizer_config.json: 100% 25.0/25.0 [00:00<00:00, 10.5kB/s]\n",
            "Downloading (…)\"pytorch_model.bin\";: 100% 499M/499M [00:02<00:00, 206MB/s]\n",
            "INFO:__main__:*** Example ***\n",
            "INFO:__main__:idx: 0\n",
            "INFO:__main__:source_tokens: ['<s>', 'to', '_target', 'file', '</s>', '@', '_Null', 'able', '_public', '_static', '_String', '_merge', '_X', 'ml', '_(', '_@', '_Not', '_Null', '_Rend', 'ering', '_Context', '_context', '_,', '_String', '_source', '_X', 'ml', '_,', '_String', '_target', '_X', 'ml', '_,', '_File', '_target', '_File', '_)', '_{', '_boolean', '_ok', '_;', '_String', '_file', '_Name', '_=', '_target', '_File', '_.', '_get', '_Name', '_(', '_)', '_;', '_String', '_contents', '_;', '_if', '_(', '_file', '_Name', '_.', '_equals', '_(', '_S', 'dk', '_Const', 'ants', '_.', '_FN', '_AND', 'RO', 'ID', '_MAN', 'IF', 'EST', '_XML', '_)', '_)', '_{', '_Document', '_current', '_Document', '_=', '_X', 'ml', '_Ut', 'ils', '_.', '_parse', '_Document', '_Sil', 'ently', '_(', '_target', '_X', 'ml', '_,', '_BO', 'OL', '_)', '_;', '_assert', '_current', '_Document', '_!=', '_null', '_:', '_target', '_X', 'ml', '_+', '_STR', 'ING', '_;', '_Document', '_fragment', '_=', '_X', 'ml', '_Ut', 'ils', '_.', '_parse', '_Document', '_Sil', 'ently', '_(', '_source', '_X', 'ml', '_,', '_BO', 'OL', '_)', '_;', '_assert', '_fragment', '_!=', '_null', '_:', '_source', '_X', 'ml', '_+', '_STR', 'ING', '_;', '_contents', '_=', '_merge', '_Manifest', '_(', '_target', '_File', '_,', '_target', '_X', 'ml', '_,', '_source', '_X', 'ml', '_)', '_;', '_ok', '_=', '_contents', '_!=', '_null', '_;', '_}', '_else', '_{', '_String', '_parent', '_Folder', '_Name', '_=', '_target', '_File', '_.', '_get', '_Parent', '_File', '_(', '_)', '_.', '_get', '_Name', '_(', '_)', '_;', '_Resource', '_Folder', '_Type', '_folder', '_Type', '_=', '_Resource', '_Folder', '_Type', '_.', '_get', '_Folder', '_Type', '_(', '_parent', '_Folder', '_Name', '_)', '_;', '_contents', '_=', '_merge', '_Resource', '_File', '_(', '_context', '_,', '_target', '_X', 'ml', '_,', '_source', '_X', 'ml', '_,', '_file', '_Name', '_,', '_folder', '_Type', '_)', '_;', '_ok', '_=', '_contents', '_!=', '_null', '_;', '_}', '_if', '_(', '_!', '_ok', '_)', '_{', '_contents', '_=', '_wrap', '_With', '_Merge', '_Conflict', '_(', '_target', '_X', 'ml', '_,', '_source', '_X', 'ml', '_)', '_;', '_context', '_.', '_get', '_Warn', 'ings', '_(', '_)', '_.', '_add', '_(', '_String', '_.', '_format', '_(', '_STR', 'ING', '_,', '_target', '_File', '_.', '_get', '_Name', '_(', '_)', '_)', '_)', '_;', '_}', '_return', '_contents', '_;', '_}', '</s>']\n",
            "INFO:__main__:source_ids: 0 560 1002 21710 2 1039 44840 868 285 25156 26602 19388 1577 18517 36 787 1491 44840 29110 2961 43885 5377 2156 26602 1300 1577 18517 2156 26602 1002 1577 18517 2156 8655 1002 8655 4839 25522 49378 15983 25606 26602 2870 10704 5457 1002 8655 479 120 10704 36 4839 25606 26602 13654 25606 114 36 2870 10704 479 27601 36 208 43357 11242 3277 479 38721 4248 8727 2688 12408 7025 4923 46917 4839 4839 25522 27246 595 27246 5457 1577 18517 11183 5290 479 43756 27246 8897 7240 36 1002 1577 18517 2156 9963 3384 4839 25606 18088 595 27246 49333 23796 4832 1002 1577 18517 2055 20857 1862 25606 27246 37903 5457 1577 18517 11183 5290 479 43756 27246 8897 7240 36 1300 1577 18517 2156 9963 3384 4839 25606 18088 37903 49333 23796 4832 1300 1577 18517 2055 20857 1862 25606 13654 5457 19388 41373 36 1002 8655 2156 1002 1577 18517 2156 1300 1577 18517 4839 25606 15983 5457 13654 49333 23796 25606 35524 1493 25522 26602 4095 47728 10704 5457 1002 8655 479 120 7783 8655 36 4839 479 120 10704 36 4839 25606 13877 47728 7773 32038 7773 5457 13877 47728 7773 479 120 47728 7773 36 4095 47728 10704 4839 25606 13654 5457 19388 13877 8655 36 5377 2156 1002 1577 18517 2156 1300 1577 18517 2156 2870 10704 2156 32038 7773 4839 25606 15983 5457 13654 49333 23796 25606 35524 114 36 27785 15983 4839 25522 13654 5457 10438 590 46417 35856 36 1002 1577 18517 2156 1300 1577 18517 4839 25606 5377 479 120 26367 1033 36 4839 479 1606 36 26602 479 7390 36 20857 1862 2156 1002 8655 479 120 10704 36 4839 4839 4839 25606 35524 671 13654 25606 35524 2 1 1 1 1 1 1 1 1 1 1 1 1 1 1 1 1 1 1 1 1 1 1 1 1 1 1 1 1 1 1 1 1 1 1 1 1 1 1 1 1 1 1 1 1 1 1 1 1 1 1 1 1 1 1 1 1 1 1 1 1 1 1 1 1 1 1 1 1 1 1 1 1 1 1 1 1 1 1 1 1 1 1 1 1 1 1 1 1 1 1 1 1 1 1 1 1 1 1 1 1 1 1 1 1 1 1 1 1\n",
            "INFO:__main__:source_mask: 1 1 1 1 1 1 1 1 1 1 1 1 1 1 1 1 1 1 1 1 1 1 1 1 1 1 1 1 1 1 1 1 1 1 1 1 1 1 1 1 1 1 1 1 1 1 1 1 1 1 1 1 1 1 1 1 1 1 1 1 1 1 1 1 1 1 1 1 1 1 1 1 1 1 1 1 1 1 1 1 1 1 1 1 1 1 1 1 1 1 1 1 1 1 1 1 1 1 1 1 1 1 1 1 1 1 1 1 1 1 1 1 1 1 1 1 1 1 1 1 1 1 1 1 1 1 1 1 1 1 1 1 1 1 1 1 1 1 1 1 1 1 1 1 1 1 1 1 1 1 1 1 1 1 1 1 1 1 1 1 1 1 1 1 1 1 1 1 1 1 1 1 1 1 1 1 1 1 1 1 1 1 1 1 1 1 1 1 1 1 1 1 1 1 1 1 1 1 1 1 1 1 1 1 1 1 1 1 1 1 1 1 1 1 1 1 1 1 1 1 1 1 1 1 1 1 1 1 1 1 1 1 1 1 1 1 1 1 1 1 1 1 1 1 1 1 1 1 1 1 1 1 1 1 1 1 1 1 1 1 1 1 1 1 1 1 1 1 1 1 1 1 1 1 1 1 1 1 1 1 1 1 1 1 1 1 1 1 1 1 1 1 1 1 1 1 0 0 0 0 0 0 0 0 0 0 0 0 0 0 0 0 0 0 0 0 0 0 0 0 0 0 0 0 0 0 0 0 0 0 0 0 0 0 0 0 0 0 0 0 0 0 0 0 0 0 0 0 0 0 0 0 0 0 0 0 0 0 0 0 0 0 0 0 0 0 0 0 0 0 0 0 0 0 0 0 0 0 0 0 0 0 0 0 0 0 0 0 0 0 0 0 0 0 0 0 0 0 0 0 0 0 0 0\n",
            "INFO:__main__:target_tokens: ['<s>', 'How', '_be', '_it', '_written', '_?', '</s>']\n",
            "INFO:__main__:target_ids: 0 6179 28 24 1982 17487 2 1 1 1 1 1 1 1 1 1 1 1 1 1 1 1 1 1 1 1 1 1 1 1 1 1 1 1 1 1 1 1 1 1 1 1 1 1 1 1 1 1 1 1 1 1\n",
            "INFO:__main__:target_mask: 1 1 1 1 1 1 1 0 0 0 0 0 0 0 0 0 0 0 0 0 0 0 0 0 0 0 0 0 0 0 0 0 0 0 0 0 0 0 0 0 0 0 0 0 0 0 0 0 0 0 0 0\n",
            "INFO:__main__:*** Example ***\n",
            "INFO:__main__:idx: 1\n",
            "INFO:__main__:source_tokens: ['<s>', 'to', '_be', '_written', '_to', '_target', 'file', '</s>', '@', '_Null', 'able', '_public', '_static', '_String', '_merge', '_X', 'ml', '_(', '_@', '_Not', '_Null', '_Rend', 'ering', '_Context', '_context', '_,', '_String', '_source', '_X', 'ml', '_,', '_String', '_target', '_X', 'ml', '_,', '_File', '_target', '_File', '_)', '_{', '_boolean', '_ok', '_;', '_String', '_file', '_Name', '_=', '_target', '_File', '_.', '_get', '_Name', '_(', '_)', '_;', '_String', '_contents', '_;', '_if', '_(', '_file', '_Name', '_.', '_equals', '_(', '_S', 'dk', '_Const', 'ants', '_.', '_FN', '_AND', 'RO', 'ID', '_MAN', 'IF', 'EST', '_XML', '_)', '_)', '_{', '_Document', '_current', '_Document', '_=', '_X', 'ml', '_Ut', 'ils', '_.', '_parse', '_Document', '_Sil', 'ently', '_(', '_target', '_X', 'ml', '_,', '_BO', 'OL', '_)', '_;', '_assert', '_current', '_Document', '_!=', '_null', '_:', '_target', '_X', 'ml', '_+', '_STR', 'ING', '_;', '_Document', '_fragment', '_=', '_X', 'ml', '_Ut', 'ils', '_.', '_parse', '_Document', '_Sil', 'ently', '_(', '_source', '_X', 'ml', '_,', '_BO', 'OL', '_)', '_;', '_assert', '_fragment', '_!=', '_null', '_:', '_source', '_X', 'ml', '_+', '_STR', 'ING', '_;', '_contents', '_=', '_merge', '_Manifest', '_(', '_target', '_File', '_,', '_target', '_X', 'ml', '_,', '_source', '_X', 'ml', '_)', '_;', '_ok', '_=', '_contents', '_!=', '_null', '_;', '_}', '_else', '_{', '_String', '_parent', '_Folder', '_Name', '_=', '_target', '_File', '_.', '_get', '_Parent', '_File', '_(', '_)', '_.', '_get', '_Name', '_(', '_)', '_;', '_Resource', '_Folder', '_Type', '_folder', '_Type', '_=', '_Resource', '_Folder', '_Type', '_.', '_get', '_Folder', '_Type', '_(', '_parent', '_Folder', '_Name', '_)', '_;', '_contents', '_=', '_merge', '_Resource', '_File', '_(', '_context', '_,', '_target', '_X', 'ml', '_,', '_source', '_X', 'ml', '_,', '_file', '_Name', '_,', '_folder', '_Type', '_)', '_;', '_ok', '_=', '_contents', '_!=', '_null', '_;', '_}', '_if', '_(', '_!', '_ok', '_)', '_{', '_contents', '_=', '_wrap', '_With', '_Merge', '_Conflict', '_(', '_target', '_X', 'ml', '_,', '_source', '_X', 'ml', '_)', '_;', '_context', '_.', '_get', '_Warn', 'ings', '_(', '_)', '_.', '_add', '_(', '_String', '_.', '_format', '_(', '_STR', 'ING', '_,', '_target', '_File', '_.', '_get', '_Name', '_(', '_)', '_)', '_)', '_;', '_}', '_return', '_contents', '_;', '_}', '</s>']\n",
            "INFO:__main__:source_ids: 0 560 28 1982 7 1002 21710 2 1039 44840 868 285 25156 26602 19388 1577 18517 36 787 1491 44840 29110 2961 43885 5377 2156 26602 1300 1577 18517 2156 26602 1002 1577 18517 2156 8655 1002 8655 4839 25522 49378 15983 25606 26602 2870 10704 5457 1002 8655 479 120 10704 36 4839 25606 26602 13654 25606 114 36 2870 10704 479 27601 36 208 43357 11242 3277 479 38721 4248 8727 2688 12408 7025 4923 46917 4839 4839 25522 27246 595 27246 5457 1577 18517 11183 5290 479 43756 27246 8897 7240 36 1002 1577 18517 2156 9963 3384 4839 25606 18088 595 27246 49333 23796 4832 1002 1577 18517 2055 20857 1862 25606 27246 37903 5457 1577 18517 11183 5290 479 43756 27246 8897 7240 36 1300 1577 18517 2156 9963 3384 4839 25606 18088 37903 49333 23796 4832 1300 1577 18517 2055 20857 1862 25606 13654 5457 19388 41373 36 1002 8655 2156 1002 1577 18517 2156 1300 1577 18517 4839 25606 15983 5457 13654 49333 23796 25606 35524 1493 25522 26602 4095 47728 10704 5457 1002 8655 479 120 7783 8655 36 4839 479 120 10704 36 4839 25606 13877 47728 7773 32038 7773 5457 13877 47728 7773 479 120 47728 7773 36 4095 47728 10704 4839 25606 13654 5457 19388 13877 8655 36 5377 2156 1002 1577 18517 2156 1300 1577 18517 2156 2870 10704 2156 32038 7773 4839 25606 15983 5457 13654 49333 23796 25606 35524 114 36 27785 15983 4839 25522 13654 5457 10438 590 46417 35856 36 1002 1577 18517 2156 1300 1577 18517 4839 25606 5377 479 120 26367 1033 36 4839 479 1606 36 26602 479 7390 36 20857 1862 2156 1002 8655 479 120 10704 36 4839 4839 4839 25606 35524 671 13654 25606 35524 2 1 1 1 1 1 1 1 1 1 1 1 1 1 1 1 1 1 1 1 1 1 1 1 1 1 1 1 1 1 1 1 1 1 1 1 1 1 1 1 1 1 1 1 1 1 1 1 1 1 1 1 1 1 1 1 1 1 1 1 1 1 1 1 1 1 1 1 1 1 1 1 1 1 1 1 1 1 1 1 1 1 1 1 1 1 1 1 1 1 1 1 1 1 1 1 1 1 1 1 1 1 1 1 1 1\n",
            "INFO:__main__:source_mask: 1 1 1 1 1 1 1 1 1 1 1 1 1 1 1 1 1 1 1 1 1 1 1 1 1 1 1 1 1 1 1 1 1 1 1 1 1 1 1 1 1 1 1 1 1 1 1 1 1 1 1 1 1 1 1 1 1 1 1 1 1 1 1 1 1 1 1 1 1 1 1 1 1 1 1 1 1 1 1 1 1 1 1 1 1 1 1 1 1 1 1 1 1 1 1 1 1 1 1 1 1 1 1 1 1 1 1 1 1 1 1 1 1 1 1 1 1 1 1 1 1 1 1 1 1 1 1 1 1 1 1 1 1 1 1 1 1 1 1 1 1 1 1 1 1 1 1 1 1 1 1 1 1 1 1 1 1 1 1 1 1 1 1 1 1 1 1 1 1 1 1 1 1 1 1 1 1 1 1 1 1 1 1 1 1 1 1 1 1 1 1 1 1 1 1 1 1 1 1 1 1 1 1 1 1 1 1 1 1 1 1 1 1 1 1 1 1 1 1 1 1 1 1 1 1 1 1 1 1 1 1 1 1 1 1 1 1 1 1 1 1 1 1 1 1 1 1 1 1 1 1 1 1 1 1 1 1 1 1 1 1 1 1 1 1 1 1 1 1 1 1 1 1 1 1 1 1 1 1 1 1 1 1 1 1 1 1 1 1 1 1 1 1 1 1 1 1 1 1 0 0 0 0 0 0 0 0 0 0 0 0 0 0 0 0 0 0 0 0 0 0 0 0 0 0 0 0 0 0 0 0 0 0 0 0 0 0 0 0 0 0 0 0 0 0 0 0 0 0 0 0 0 0 0 0 0 0 0 0 0 0 0 0 0 0 0 0 0 0 0 0 0 0 0 0 0 0 0 0 0 0 0 0 0 0 0 0 0 0 0 0 0 0 0 0 0 0 0 0 0 0 0 0 0\n",
            "INFO:__main__:target_tokens: ['<s>', 'What', '_does', '_it', '_need', '_still', '_?', '</s>']\n",
            "INFO:__main__:target_ids: 0 2264 473 24 240 202 17487 2 1 1 1 1 1 1 1 1 1 1 1 1 1 1 1 1 1 1 1 1 1 1 1 1 1 1 1 1 1 1 1 1 1 1 1 1 1 1 1 1 1 1 1 1\n",
            "INFO:__main__:target_mask: 1 1 1 1 1 1 1 1 0 0 0 0 0 0 0 0 0 0 0 0 0 0 0 0 0 0 0 0 0 0 0 0 0 0 0 0 0 0 0 0 0 0 0 0 0 0 0 0 0 0 0 0\n",
            "INFO:__main__:*** Example ***\n",
            "INFO:__main__:idx: 2\n",
            "INFO:__main__:source_tokens: ['<s>', 'a', '_new', '_transformer', '_object', '</s>', 'public', '_Tem', 'plates', '_Handler', '_new', '_Tem', 'plates', '_Handler', '_(', '_)', '_throws', '_Trans', 'former', '_Configuration', '_Exception', '_{', '_return', '_new', '_Styles', 'heet', '_Handler', '_(', '_this', '_)', '_;', '_}', '</s>']\n",
            "INFO:__main__:source_ids: 0 102 92 40878 7626 2 15110 9188 40560 41060 92 9188 40560 41060 36 4839 6989 5428 22098 47048 47617 25522 671 92 20427 25148 41060 36 42 4839 25606 35524 2 1 1 1 1 1 1 1 1 1 1 1 1 1 1 1 1 1 1 1 1 1 1 1 1 1 1 1 1 1 1 1 1 1 1 1 1 1 1 1 1 1 1 1 1 1 1 1 1 1 1 1 1 1 1 1 1 1 1 1 1 1 1 1 1 1 1 1 1 1 1 1 1 1 1 1 1 1 1 1 1 1 1 1 1 1 1 1 1 1 1 1 1 1 1 1 1 1 1 1 1 1 1 1 1 1 1 1 1 1 1 1 1 1 1 1 1 1 1 1 1 1 1 1 1 1 1 1 1 1 1 1 1 1 1 1 1 1 1 1 1 1 1 1 1 1 1 1 1 1 1 1 1 1 1 1 1 1 1 1 1 1 1 1 1 1 1 1 1 1 1 1 1 1 1 1 1 1 1 1 1 1 1 1 1 1 1 1 1 1 1 1 1 1 1 1 1 1 1 1 1 1 1 1 1 1 1 1 1 1 1 1 1 1 1 1 1 1 1 1 1 1 1 1 1 1 1 1 1 1 1 1 1 1 1 1 1 1 1 1 1 1 1 1 1 1 1 1 1 1 1 1 1 1 1 1 1 1 1 1 1 1 1 1 1 1 1 1 1 1 1 1 1 1 1 1 1 1 1 1 1 1 1 1 1 1 1 1 1 1 1 1 1 1 1 1 1 1 1 1 1 1 1 1 1 1 1 1 1 1 1 1 1 1 1 1 1 1 1 1 1 1 1 1 1 1 1 1 1 1 1 1 1 1 1 1 1 1 1 1 1 1 1 1 1 1 1 1 1 1 1 1 1 1 1 1 1 1 1 1 1 1 1 1 1 1 1 1 1 1 1 1\n",
            "INFO:__main__:source_mask: 1 1 1 1 1 1 1 1 1 1 1 1 1 1 1 1 1 1 1 1 1 1 1 1 1 1 1 1 1 1 1 1 1 0 0 0 0 0 0 0 0 0 0 0 0 0 0 0 0 0 0 0 0 0 0 0 0 0 0 0 0 0 0 0 0 0 0 0 0 0 0 0 0 0 0 0 0 0 0 0 0 0 0 0 0 0 0 0 0 0 0 0 0 0 0 0 0 0 0 0 0 0 0 0 0 0 0 0 0 0 0 0 0 0 0 0 0 0 0 0 0 0 0 0 0 0 0 0 0 0 0 0 0 0 0 0 0 0 0 0 0 0 0 0 0 0 0 0 0 0 0 0 0 0 0 0 0 0 0 0 0 0 0 0 0 0 0 0 0 0 0 0 0 0 0 0 0 0 0 0 0 0 0 0 0 0 0 0 0 0 0 0 0 0 0 0 0 0 0 0 0 0 0 0 0 0 0 0 0 0 0 0 0 0 0 0 0 0 0 0 0 0 0 0 0 0 0 0 0 0 0 0 0 0 0 0 0 0 0 0 0 0 0 0 0 0 0 0 0 0 0 0 0 0 0 0 0 0 0 0 0 0 0 0 0 0 0 0 0 0 0 0 0 0 0 0 0 0 0 0 0 0 0 0 0 0 0 0 0 0 0 0 0 0 0 0 0 0 0 0 0 0 0 0 0 0 0 0 0 0 0 0 0 0 0 0 0 0 0 0 0 0 0 0 0 0 0 0 0 0 0 0 0 0 0 0 0 0 0 0 0 0 0 0 0 0 0 0 0 0 0 0 0 0 0 0 0 0 0 0 0 0 0 0 0 0 0 0 0 0 0 0 0 0 0 0 0 0 0 0 0 0 0 0 0 0 0 0 0 0 0 0 0 0 0 0 0 0 0 0 0 0 0 0\n",
            "INFO:__main__:target_tokens: ['<s>', 'What', '_performs', '_a', '_copy', '_of', '_the', '_source', '_to', '_the', '_result', '_?', '</s>']\n",
            "INFO:__main__:target_ids: 0 2264 14023 10 5375 9 5 1300 7 5 898 17487 2 1 1 1 1 1 1 1 1 1 1 1 1 1 1 1 1 1 1 1 1 1 1 1 1 1 1 1 1 1 1 1 1 1 1 1 1 1 1 1\n",
            "INFO:__main__:target_mask: 1 1 1 1 1 1 1 1 1 1 1 1 1 0 0 0 0 0 0 0 0 0 0 0 0 0 0 0 0 0 0 0 0 0 0 0 0 0 0 0 0 0 0 0 0 0 0 0 0 0 0 0\n",
            "INFO:__main__:*** Example ***\n",
            "INFO:__main__:idx: 3\n",
            "INFO:__main__:source_tokens: ['<s>', 'a', '_copy', '_of', '_the', '_source', '</s>', 'public', '_Tem', 'plates', '_Handler', '_new', '_Tem', 'plates', '_Handler', '_(', '_)', '_throws', '_Trans', 'former', '_Configuration', '_Exception', '_{', '_return', '_new', '_Styles', 'heet', '_Handler', '_(', '_this', '_)', '_;', '_}', '</s>']\n",
            "INFO:__main__:source_ids: 0 102 5375 9 5 1300 2 15110 9188 40560 41060 92 9188 40560 41060 36 4839 6989 5428 22098 47048 47617 25522 671 92 20427 25148 41060 36 42 4839 25606 35524 2 1 1 1 1 1 1 1 1 1 1 1 1 1 1 1 1 1 1 1 1 1 1 1 1 1 1 1 1 1 1 1 1 1 1 1 1 1 1 1 1 1 1 1 1 1 1 1 1 1 1 1 1 1 1 1 1 1 1 1 1 1 1 1 1 1 1 1 1 1 1 1 1 1 1 1 1 1 1 1 1 1 1 1 1 1 1 1 1 1 1 1 1 1 1 1 1 1 1 1 1 1 1 1 1 1 1 1 1 1 1 1 1 1 1 1 1 1 1 1 1 1 1 1 1 1 1 1 1 1 1 1 1 1 1 1 1 1 1 1 1 1 1 1 1 1 1 1 1 1 1 1 1 1 1 1 1 1 1 1 1 1 1 1 1 1 1 1 1 1 1 1 1 1 1 1 1 1 1 1 1 1 1 1 1 1 1 1 1 1 1 1 1 1 1 1 1 1 1 1 1 1 1 1 1 1 1 1 1 1 1 1 1 1 1 1 1 1 1 1 1 1 1 1 1 1 1 1 1 1 1 1 1 1 1 1 1 1 1 1 1 1 1 1 1 1 1 1 1 1 1 1 1 1 1 1 1 1 1 1 1 1 1 1 1 1 1 1 1 1 1 1 1 1 1 1 1 1 1 1 1 1 1 1 1 1 1 1 1 1 1 1 1 1 1 1 1 1 1 1 1 1 1 1 1 1 1 1 1 1 1 1 1 1 1 1 1 1 1 1 1 1 1 1 1 1 1 1 1 1 1 1 1 1 1 1 1 1 1 1 1 1 1 1 1 1 1 1 1 1 1 1 1 1 1 1 1 1 1 1 1 1 1 1 1 1 1 1 1 1 1\n",
            "INFO:__main__:source_mask: 1 1 1 1 1 1 1 1 1 1 1 1 1 1 1 1 1 1 1 1 1 1 1 1 1 1 1 1 1 1 1 1 1 1 0 0 0 0 0 0 0 0 0 0 0 0 0 0 0 0 0 0 0 0 0 0 0 0 0 0 0 0 0 0 0 0 0 0 0 0 0 0 0 0 0 0 0 0 0 0 0 0 0 0 0 0 0 0 0 0 0 0 0 0 0 0 0 0 0 0 0 0 0 0 0 0 0 0 0 0 0 0 0 0 0 0 0 0 0 0 0 0 0 0 0 0 0 0 0 0 0 0 0 0 0 0 0 0 0 0 0 0 0 0 0 0 0 0 0 0 0 0 0 0 0 0 0 0 0 0 0 0 0 0 0 0 0 0 0 0 0 0 0 0 0 0 0 0 0 0 0 0 0 0 0 0 0 0 0 0 0 0 0 0 0 0 0 0 0 0 0 0 0 0 0 0 0 0 0 0 0 0 0 0 0 0 0 0 0 0 0 0 0 0 0 0 0 0 0 0 0 0 0 0 0 0 0 0 0 0 0 0 0 0 0 0 0 0 0 0 0 0 0 0 0 0 0 0 0 0 0 0 0 0 0 0 0 0 0 0 0 0 0 0 0 0 0 0 0 0 0 0 0 0 0 0 0 0 0 0 0 0 0 0 0 0 0 0 0 0 0 0 0 0 0 0 0 0 0 0 0 0 0 0 0 0 0 0 0 0 0 0 0 0 0 0 0 0 0 0 0 0 0 0 0 0 0 0 0 0 0 0 0 0 0 0 0 0 0 0 0 0 0 0 0 0 0 0 0 0 0 0 0 0 0 0 0 0 0 0 0 0 0 0 0 0 0 0 0 0 0 0 0 0 0 0 0 0 0 0 0 0 0 0 0 0 0 0 0 0 0 0 0 0\n",
            "INFO:__main__:target_tokens: ['<s>', 'What', '_does', '_a', '_new', '_transformer', '_object', '_perform', '_to', '_the', '_result', '_?', '</s>']\n",
            "INFO:__main__:target_ids: 0 2264 473 10 92 40878 7626 3008 7 5 898 17487 2 1 1 1 1 1 1 1 1 1 1 1 1 1 1 1 1 1 1 1 1 1 1 1 1 1 1 1 1 1 1 1 1 1 1 1 1 1 1 1\n",
            "INFO:__main__:target_mask: 1 1 1 1 1 1 1 1 1 1 1 1 1 0 0 0 0 0 0 0 0 0 0 0 0 0 0 0 0 0 0 0 0 0 0 0 0 0 0 0 0 0 0 0 0 0 0 0 0 0 0 0\n",
            "INFO:__main__:*** Example ***\n",
            "INFO:__main__:idx: 4\n",
            "INFO:__main__:source_tokens: ['<s>', 'a', '_new', '_transformer', '_object', '_that', '_performs', '_a', '_copy', '_of', '_the', '_source', '_to', '_the', '_result', '</s>', 'public', '_Tem', 'plates', '_Handler', '_new', '_Tem', 'plates', '_Handler', '_(', '_)', '_throws', '_Trans', 'former', '_Configuration', '_Exception', '_{', '_return', '_new', '_Styles', 'heet', '_Handler', '_(', '_this', '_)', '_;', '_}', '</s>']\n",
            "INFO:__main__:source_ids: 0 102 92 40878 7626 14 14023 10 5375 9 5 1300 7 5 898 2 15110 9188 40560 41060 92 9188 40560 41060 36 4839 6989 5428 22098 47048 47617 25522 671 92 20427 25148 41060 36 42 4839 25606 35524 2 1 1 1 1 1 1 1 1 1 1 1 1 1 1 1 1 1 1 1 1 1 1 1 1 1 1 1 1 1 1 1 1 1 1 1 1 1 1 1 1 1 1 1 1 1 1 1 1 1 1 1 1 1 1 1 1 1 1 1 1 1 1 1 1 1 1 1 1 1 1 1 1 1 1 1 1 1 1 1 1 1 1 1 1 1 1 1 1 1 1 1 1 1 1 1 1 1 1 1 1 1 1 1 1 1 1 1 1 1 1 1 1 1 1 1 1 1 1 1 1 1 1 1 1 1 1 1 1 1 1 1 1 1 1 1 1 1 1 1 1 1 1 1 1 1 1 1 1 1 1 1 1 1 1 1 1 1 1 1 1 1 1 1 1 1 1 1 1 1 1 1 1 1 1 1 1 1 1 1 1 1 1 1 1 1 1 1 1 1 1 1 1 1 1 1 1 1 1 1 1 1 1 1 1 1 1 1 1 1 1 1 1 1 1 1 1 1 1 1 1 1 1 1 1 1 1 1 1 1 1 1 1 1 1 1 1 1 1 1 1 1 1 1 1 1 1 1 1 1 1 1 1 1 1 1 1 1 1 1 1 1 1 1 1 1 1 1 1 1 1 1 1 1 1 1 1 1 1 1 1 1 1 1 1 1 1 1 1 1 1 1 1 1 1 1 1 1 1 1 1 1 1 1 1 1 1 1 1 1 1 1 1 1 1 1 1 1 1 1 1 1 1 1 1 1 1 1 1 1 1 1 1 1 1 1 1 1 1 1 1 1 1 1 1 1 1 1 1 1 1 1 1 1 1 1 1 1 1 1 1 1\n",
            "INFO:__main__:source_mask: 1 1 1 1 1 1 1 1 1 1 1 1 1 1 1 1 1 1 1 1 1 1 1 1 1 1 1 1 1 1 1 1 1 1 1 1 1 1 1 1 1 1 1 0 0 0 0 0 0 0 0 0 0 0 0 0 0 0 0 0 0 0 0 0 0 0 0 0 0 0 0 0 0 0 0 0 0 0 0 0 0 0 0 0 0 0 0 0 0 0 0 0 0 0 0 0 0 0 0 0 0 0 0 0 0 0 0 0 0 0 0 0 0 0 0 0 0 0 0 0 0 0 0 0 0 0 0 0 0 0 0 0 0 0 0 0 0 0 0 0 0 0 0 0 0 0 0 0 0 0 0 0 0 0 0 0 0 0 0 0 0 0 0 0 0 0 0 0 0 0 0 0 0 0 0 0 0 0 0 0 0 0 0 0 0 0 0 0 0 0 0 0 0 0 0 0 0 0 0 0 0 0 0 0 0 0 0 0 0 0 0 0 0 0 0 0 0 0 0 0 0 0 0 0 0 0 0 0 0 0 0 0 0 0 0 0 0 0 0 0 0 0 0 0 0 0 0 0 0 0 0 0 0 0 0 0 0 0 0 0 0 0 0 0 0 0 0 0 0 0 0 0 0 0 0 0 0 0 0 0 0 0 0 0 0 0 0 0 0 0 0 0 0 0 0 0 0 0 0 0 0 0 0 0 0 0 0 0 0 0 0 0 0 0 0 0 0 0 0 0 0 0 0 0 0 0 0 0 0 0 0 0 0 0 0 0 0 0 0 0 0 0 0 0 0 0 0 0 0 0 0 0 0 0 0 0 0 0 0 0 0 0 0 0 0 0 0 0 0 0 0 0 0 0 0 0 0 0 0 0 0 0 0 0 0 0 0 0 0 0 0 0 0 0 0 0 0 0 0 0 0 0 0 0\n",
            "INFO:__main__:target_tokens: ['<s>', 'What', '_does', '_the', '_code', '_create', '_?', '</s>']\n",
            "INFO:__main__:target_ids: 0 2264 473 5 3260 1045 17487 2 1 1 1 1 1 1 1 1 1 1 1 1 1 1 1 1 1 1 1 1 1 1 1 1 1 1 1 1 1 1 1 1 1 1 1 1 1 1 1 1 1 1 1 1\n",
            "INFO:__main__:target_mask: 1 1 1 1 1 1 1 1 0 0 0 0 0 0 0 0 0 0 0 0 0 0 0 0 0 0 0 0 0 0 0 0 0 0 0 0 0 0 0 0 0 0 0 0 0 0 0 0 0 0 0 0\n",
            "/usr/local/lib/python3.8/dist-packages/transformers/optimization.py:306: FutureWarning: This implementation of AdamW is deprecated and will be removed in a future version. Use the PyTorch implementation torch.optim.AdamW instead, or set `no_deprecation_warning=True` to disable this warning\n",
            "  warnings.warn(\n",
            "INFO:__main__:***** Running training *****\n",
            "INFO:__main__:  Num examples = 66514\n",
            "INFO:__main__:  Batch size = 32\n",
            "INFO:__main__:  Num epoch = 20\n",
            "epoch 0 loss 4.2271: 100% 2079/2079 [22:29<00:00,  1.54it/s]\n",
            "INFO:__main__:\n",
            "***** Running evaluation *****\n",
            "INFO:__main__:  Num examples = 8314\n",
            "INFO:__main__:  Batch size = 32\n",
            "INFO:__main__:  eval_ppl = 22.56943\n",
            "INFO:__main__:  global_step = 2080\n",
            "INFO:__main__:  train_loss = 4.2271\n",
            "INFO:__main__:  ********************\n",
            "INFO:__main__:  Best ppl:22.56943\n",
            "INFO:__main__:  ********************\n",
            "INFO:__main__:dev set: bleu = 33.86 | rouge_l = 50.38 | meteor = 18.49 | EM = 11.10 | Precision = 60.41 | Recall = 47.78 | F1 = 51.88 | \n",
            "INFO:__main__:  ********************\n",
            "INFO:__main__:  Best bleu:33.85516161136738\n",
            "INFO:__main__:  ********************\n",
            "epoch 1 loss 2.8757: 100% 2079/2079 [22:26<00:00,  1.54it/s]\n",
            "INFO:__main__:\n",
            "***** Running evaluation *****\n",
            "INFO:__main__:  Num examples = 8314\n",
            "INFO:__main__:  Batch size = 32\n",
            "INFO:__main__:  eval_ppl = 15.1674\n",
            "INFO:__main__:  global_step = 4159\n",
            "INFO:__main__:  train_loss = 2.8757\n",
            "INFO:__main__:  ********************\n",
            "INFO:__main__:  Best ppl:15.1674\n",
            "INFO:__main__:  ********************\n",
            "INFO:__main__:dev set: bleu = 36.09 | rouge_l = 52.70 | meteor = 19.99 | EM = 14.10 | Precision = 61.78 | Recall = 50.36 | F1 = 53.97 | \n",
            "INFO:__main__:  ********************\n",
            "INFO:__main__:  Best bleu:36.088004153845915\n",
            "INFO:__main__:  ********************\n",
            "epoch 2 loss 2.4253: 100% 2079/2079 [22:26<00:00,  1.54it/s]\n",
            "INFO:__main__:\n",
            "***** Running evaluation *****\n",
            "INFO:__main__:  Num examples = 8314\n",
            "INFO:__main__:  Batch size = 32\n",
            "INFO:__main__:  eval_ppl = 12.15079\n",
            "INFO:__main__:  global_step = 6238\n",
            "INFO:__main__:  train_loss = 2.4253\n",
            "INFO:__main__:  ********************\n",
            "INFO:__main__:  Best ppl:12.15079\n",
            "INFO:__main__:  ********************\n",
            "INFO:__main__:dev set: bleu = 37.12 | rouge_l = 54.43 | meteor = 21.42 | EM = 15.20 | Precision = 64.36 | Recall = 52.22 | F1 = 56.05 | \n",
            "INFO:__main__:  ********************\n",
            "INFO:__main__:  Best bleu:37.12221404090047\n",
            "INFO:__main__:  ********************\n",
            "epoch 3 loss 2.0631: 100% 2079/2079 [22:26<00:00,  1.54it/s]\n",
            "INFO:__main__:\n",
            "***** Running evaluation *****\n",
            "INFO:__main__:  Num examples = 8314\n",
            "INFO:__main__:  Batch size = 32\n",
            "INFO:__main__:  eval_ppl = 11.01549\n",
            "INFO:__main__:  global_step = 8317\n",
            "INFO:__main__:  train_loss = 2.0631\n",
            "INFO:__main__:  ********************\n",
            "INFO:__main__:  Best ppl:11.01549\n",
            "INFO:__main__:  ********************\n",
            "INFO:__main__:dev set: bleu = 39.04 | rouge_l = 56.39 | meteor = 22.63 | EM = 17.00 | Precision = 65.59 | Recall = 54.44 | F1 = 57.87 | \n",
            "INFO:__main__:  ********************\n",
            "INFO:__main__:  Best bleu:39.038489812130464\n",
            "INFO:__main__:  ********************\n",
            "epoch 4 loss 1.7563: 100% 2079/2079 [22:26<00:00,  1.54it/s]\n",
            "INFO:__main__:\n",
            "***** Running evaluation *****\n",
            "INFO:__main__:  Num examples = 8314\n",
            "INFO:__main__:  Batch size = 32\n",
            "INFO:__main__:  eval_ppl = 10.57637\n",
            "INFO:__main__:  global_step = 10396\n",
            "INFO:__main__:  train_loss = 1.7563\n",
            "INFO:__main__:  ********************\n",
            "INFO:__main__:  Best ppl:10.57637\n",
            "INFO:__main__:  ********************\n",
            "INFO:__main__:dev set: bleu = 39.53 | rouge_l = 57.06 | meteor = 22.87 | EM = 17.40 | Precision = 66.59 | Recall = 54.72 | F1 = 58.46 | \n",
            "INFO:__main__:  ********************\n",
            "INFO:__main__:  Best bleu:39.52600243036547\n",
            "INFO:__main__:  ********************\n",
            "epoch 5 loss 1.4895: 100% 2079/2079 [22:26<00:00,  1.54it/s]\n",
            "INFO:__main__:\n",
            "***** Running evaluation *****\n",
            "INFO:__main__:  Num examples = 8314\n",
            "INFO:__main__:  Batch size = 32\n",
            "INFO:__main__:  eval_ppl = 10.41121\n",
            "INFO:__main__:  global_step = 12475\n",
            "INFO:__main__:  train_loss = 1.4895\n",
            "INFO:__main__:  ********************\n",
            "INFO:__main__:  Best ppl:10.41121\n",
            "INFO:__main__:  ********************\n",
            "INFO:__main__:dev set: bleu = 40.35 | rouge_l = 57.29 | meteor = 23.40 | EM = 19.30 | Precision = 66.93 | Recall = 55.01 | F1 = 58.74 | \n",
            "INFO:__main__:  ********************\n",
            "INFO:__main__:  Best bleu:40.345746572063284\n",
            "INFO:__main__:  ********************\n",
            "epoch 6 loss 1.2516: 100% 2079/2079 [22:27<00:00,  1.54it/s]\n",
            "INFO:__main__:\n",
            "***** Running evaluation *****\n",
            "INFO:__main__:  Num examples = 8314\n",
            "INFO:__main__:  Batch size = 32\n",
            "INFO:__main__:  eval_ppl = 10.58788\n",
            "INFO:__main__:  global_step = 14554\n",
            "INFO:__main__:  train_loss = 1.2516\n",
            "INFO:__main__:  ********************\n",
            "INFO:__main__:dev set: bleu = 41.55 | rouge_l = 58.14 | meteor = 24.16 | EM = 20.30 | Precision = 67.17 | Recall = 56.13 | F1 = 59.57 | \n",
            "INFO:__main__:  ********************\n",
            "INFO:__main__:  Best bleu:41.549362667939285\n",
            "INFO:__main__:  ********************\n",
            "epoch 7 loss 1.0405: 100% 2079/2079 [22:27<00:00,  1.54it/s]\n",
            "INFO:__main__:\n",
            "***** Running evaluation *****\n",
            "INFO:__main__:  Num examples = 8314\n",
            "INFO:__main__:  Batch size = 32\n",
            "INFO:__main__:  eval_ppl = 11.06018\n",
            "INFO:__main__:  global_step = 16633\n",
            "INFO:__main__:  train_loss = 1.0405\n",
            "INFO:__main__:  ********************\n",
            "INFO:__main__:dev set: bleu = 42.09 | rouge_l = 59.10 | meteor = 24.70 | EM = 20.10 | Precision = 67.91 | Recall = 57.08 | F1 = 60.48 | \n",
            "INFO:__main__:  ********************\n",
            "INFO:__main__:  Best bleu:42.092044889112465\n",
            "INFO:__main__:  ********************\n",
            "epoch 8 loss 0.8495: 100% 2079/2079 [22:26<00:00,  1.54it/s]\n",
            "INFO:__main__:\n",
            "***** Running evaluation *****\n",
            "INFO:__main__:  Num examples = 8314\n",
            "INFO:__main__:  Batch size = 32\n",
            "INFO:__main__:  eval_ppl = 11.62493\n",
            "INFO:__main__:  global_step = 18712\n",
            "INFO:__main__:  train_loss = 0.8495\n",
            "INFO:__main__:  ********************\n",
            "INFO:__main__:dev set: bleu = 42.96 | rouge_l = 59.17 | meteor = 25.01 | EM = 22.10 | Precision = 67.78 | Recall = 57.25 | F1 = 60.49 | \n",
            "INFO:__main__:  ********************\n",
            "INFO:__main__:  Best bleu:42.96162975079067\n",
            "INFO:__main__:  ********************\n",
            "epoch 9 loss 0.6933: 100% 2079/2079 [22:26<00:00,  1.54it/s]\n",
            "INFO:__main__:\n",
            "***** Running evaluation *****\n",
            "INFO:__main__:  Num examples = 8314\n",
            "INFO:__main__:  Batch size = 32\n",
            "INFO:__main__:  eval_ppl = 12.53537\n",
            "INFO:__main__:  global_step = 20791\n",
            "INFO:__main__:  train_loss = 0.6933\n",
            "INFO:__main__:  ********************\n",
            "INFO:__main__:dev set: bleu = 44.24 | rouge_l = 60.13 | meteor = 26.02 | EM = 22.90 | Precision = 67.27 | Recall = 58.85 | F1 = 61.31 | \n",
            "INFO:__main__:  ********************\n",
            "INFO:__main__:  Best bleu:44.23597512827705\n",
            "INFO:__main__:  ********************\n",
            "epoch 10 loss 0.5652: 100% 2079/2079 [22:25<00:00,  1.54it/s]\n",
            "INFO:__main__:\n",
            "***** Running evaluation *****\n",
            "INFO:__main__:  Num examples = 8314\n",
            "INFO:__main__:  Batch size = 32\n",
            "INFO:__main__:  eval_ppl = 13.28967\n",
            "INFO:__main__:  global_step = 22870\n",
            "INFO:__main__:  train_loss = 0.5652\n",
            "INFO:__main__:  ********************\n",
            "INFO:__main__:dev set: bleu = 44.20 | rouge_l = 60.03 | meteor = 26.06 | EM = 23.70 | Precision = 67.37 | Recall = 58.67 | F1 = 61.27 | \n",
            "INFO:__main__:  ********************\n",
            "epoch 11 loss 0.4504: 100% 2079/2079 [22:24<00:00,  1.55it/s]\n",
            "INFO:__main__:\n",
            "***** Running evaluation *****\n",
            "INFO:__main__:  Num examples = 8314\n",
            "INFO:__main__:  Batch size = 32\n",
            "INFO:__main__:  eval_ppl = 14.32952\n",
            "INFO:__main__:  global_step = 24949\n",
            "INFO:__main__:  train_loss = 0.4504\n",
            "INFO:__main__:  ********************\n",
            "INFO:__main__:dev set: bleu = 45.86 | rouge_l = 61.53 | meteor = 27.11 | EM = 25.40 | Precision = 68.65 | Recall = 60.22 | F1 = 62.72 | \n",
            "INFO:__main__:  ********************\n",
            "INFO:__main__:  Best bleu:45.86103643748966\n",
            "INFO:__main__:  ********************\n",
            "epoch 12 loss 0.364: 100% 2079/2079 [22:25<00:00,  1.55it/s]\n",
            "INFO:__main__:\n",
            "***** Running evaluation *****\n",
            "INFO:__main__:  Num examples = 8314\n",
            "INFO:__main__:  Batch size = 32\n",
            "INFO:__main__:  eval_ppl = 15.19673\n",
            "INFO:__main__:  global_step = 27028\n",
            "INFO:__main__:  train_loss = 0.364\n",
            "INFO:__main__:  ********************\n",
            "INFO:__main__:dev set: bleu = 45.79 | rouge_l = 61.27 | meteor = 27.32 | EM = 25.40 | Precision = 67.53 | Recall = 60.46 | F1 = 62.35 | \n",
            "INFO:__main__:  ********************\n",
            "epoch 13 loss 0.2907: 100% 2079/2079 [22:25<00:00,  1.54it/s]\n",
            "INFO:__main__:\n",
            "***** Running evaluation *****\n",
            "INFO:__main__:  Num examples = 8314\n",
            "INFO:__main__:  Batch size = 32\n",
            "INFO:__main__:  eval_ppl = 16.3793\n",
            "INFO:__main__:  global_step = 29107\n",
            "INFO:__main__:  train_loss = 0.2907\n",
            "INFO:__main__:  ********************\n",
            "INFO:__main__:dev set: bleu = 46.51 | rouge_l = 61.72 | meteor = 27.72 | EM = 26.30 | Precision = 67.77 | Recall = 61.02 | F1 = 62.75 | \n",
            "INFO:__main__:  ********************\n",
            "INFO:__main__:  Best bleu:46.511199415867225\n",
            "INFO:__main__:  ********************\n",
            "epoch 14 loss 0.2358: 100% 2079/2079 [22:26<00:00,  1.54it/s]\n",
            "INFO:__main__:\n",
            "***** Running evaluation *****\n",
            "INFO:__main__:  Num examples = 8314\n",
            "INFO:__main__:  Batch size = 32\n",
            "INFO:__main__:  eval_ppl = 17.34486\n",
            "INFO:__main__:  global_step = 31186\n",
            "INFO:__main__:  train_loss = 0.2358\n",
            "INFO:__main__:  ********************\n",
            "INFO:__main__:dev set: bleu = 46.93 | rouge_l = 62.02 | meteor = 27.84 | EM = 26.60 | Precision = 68.23 | Recall = 61.08 | F1 = 63.05 | \n",
            "INFO:__main__:  ********************\n",
            "INFO:__main__:  Best bleu:46.93165181959393\n",
            "INFO:__main__:  ********************\n",
            "epoch 15 loss 0.1916: 100% 2079/2079 [22:25<00:00,  1.54it/s]\n",
            "INFO:__main__:\n",
            "***** Running evaluation *****\n",
            "INFO:__main__:  Num examples = 8314\n",
            "INFO:__main__:  Batch size = 32\n",
            "INFO:__main__:  eval_ppl = 18.2754\n",
            "INFO:__main__:  global_step = 33265\n",
            "INFO:__main__:  train_loss = 0.1916\n",
            "INFO:__main__:  ********************\n",
            "INFO:__main__:dev set: bleu = 46.89 | rouge_l = 61.99 | meteor = 27.96 | EM = 26.70 | Precision = 68.40 | Recall = 60.99 | F1 = 63.08 | \n",
            "INFO:__main__:  ********************\n",
            "epoch 16 loss 0.1585: 100% 2079/2079 [22:27<00:00,  1.54it/s]\n",
            "INFO:__main__:\n",
            "***** Running evaluation *****\n",
            "INFO:__main__:  Num examples = 8314\n",
            "INFO:__main__:  Batch size = 32\n",
            "INFO:__main__:  eval_ppl = 19.12968\n",
            "INFO:__main__:  global_step = 35344\n",
            "INFO:__main__:  train_loss = 0.1585\n",
            "INFO:__main__:  ********************\n",
            "INFO:__main__:dev set: bleu = 47.22 | rouge_l = 62.23 | meteor = 28.24 | EM = 27.20 | Precision = 68.20 | Recall = 61.50 | F1 = 63.29 | \n",
            "INFO:__main__:  ********************\n",
            "INFO:__main__:  Best bleu:47.21933625350411\n",
            "INFO:__main__:  ********************\n",
            "epoch 17 loss 0.1318: 100% 2079/2079 [22:27<00:00,  1.54it/s]\n",
            "INFO:__main__:\n",
            "***** Running evaluation *****\n",
            "INFO:__main__:  Num examples = 8314\n",
            "INFO:__main__:  Batch size = 32\n",
            "INFO:__main__:  eval_ppl = 20.02018\n",
            "INFO:__main__:  global_step = 37423\n",
            "INFO:__main__:  train_loss = 0.1318\n",
            "INFO:__main__:  ********************\n",
            "INFO:__main__:dev set: bleu = 47.19 | rouge_l = 62.31 | meteor = 28.29 | EM = 26.70 | Precision = 68.23 | Recall = 61.72 | F1 = 63.42 | \n",
            "INFO:__main__:  ********************\n",
            "epoch 18 loss 0.1135: 100% 2079/2079 [22:28<00:00,  1.54it/s]\n",
            "INFO:__main__:\n",
            "***** Running evaluation *****\n",
            "INFO:__main__:  Num examples = 8314\n",
            "INFO:__main__:  Batch size = 32\n",
            "INFO:__main__:  eval_ppl = 20.3948\n",
            "INFO:__main__:  global_step = 39502\n",
            "INFO:__main__:  train_loss = 0.1135\n",
            "INFO:__main__:  ********************\n",
            "INFO:__main__:dev set: bleu = 47.30 | rouge_l = 62.18 | meteor = 28.26 | EM = 27.40 | Precision = 68.20 | Recall = 61.51 | F1 = 63.26 | \n",
            "INFO:__main__:  ********************\n",
            "INFO:__main__:  Best bleu:47.297030807922695\n",
            "INFO:__main__:  ********************\n",
            "epoch 19 loss 0.1: 100% 2079/2079 [22:27<00:00,  1.54it/s]\n",
            "INFO:__main__:\n",
            "***** Running evaluation *****\n",
            "INFO:__main__:  Num examples = 8314\n",
            "INFO:__main__:  Batch size = 32\n",
            "INFO:__main__:  eval_ppl = 20.56007\n",
            "INFO:__main__:  global_step = 41581\n",
            "INFO:__main__:  train_loss = 0.1\n",
            "INFO:__main__:  ********************\n",
            "INFO:__main__:dev set: bleu = 47.44 | rouge_l = 62.24 | meteor = 28.29 | EM = 27.70 | Precision = 68.19 | Recall = 61.63 | F1 = 63.33 | \n",
            "INFO:__main__:  ********************\n",
            "INFO:__main__:  Best bleu:47.44492345577155\n",
            "INFO:__main__:  ********************\n",
            "INFO:__main__:\n",
            "***** Running Test *****\n",
            "INFO:__main__:Test file: ../data/test/\n",
            "100% 260/260 [16:37<00:00,  3.84s/it]\n",
            "INFO:__main__:test set: bleu = 45.90 | rouge_l = 60.83 | meteor = 27.28 | EM = 26.63 | Precision = 66.99 | Recall = 60.13 | F1 = 61.84 | \n",
            "INFO:__main__:  ********************\n"
          ]
        }
      ]
    },
    {
      "cell_type": "markdown",
      "source": [
        "Execute the following shell if you want to load model that has been build and run test. You don't need to run it again becuase test has been carried out in above execution."
      ],
      "metadata": {
        "id": "fKHFKQE7UbhL"
      }
    },
    {
      "cell_type": "code",
      "source": [
        "# Run the Test\n",
        "#!bash java_script_test.sh 0 cbQG"
      ],
      "metadata": {
        "id": "ghuwcDAaOr6F"
      },
      "execution_count": null,
      "outputs": []
    },
    {
      "cell_type": "markdown",
      "source": [
        "Mount the google drive so you can copy file into it"
      ],
      "metadata": {
        "id": "D788MOBWA-s8"
      }
    },
    {
      "cell_type": "code",
      "source": [
        "# mount it\n",
        "from google.colab import drive\n",
        "drive.mount('/content/drive')"
      ],
      "metadata": {
        "id": "YjgS9EzRBCox",
        "outputId": "29b4e082-df54-4e84-8546-64edae430214",
        "colab": {
          "base_uri": "https://localhost:8080/"
        }
      },
      "execution_count": 3,
      "outputs": [
        {
          "output_type": "stream",
          "name": "stdout",
          "text": [
            "Mounted at /content/drive\n"
          ]
        }
      ]
    },
    {
      "cell_type": "markdown",
      "source": [
        "Zip the output so that you can download all files at once"
      ],
      "metadata": {
        "id": "B37CzUi2pqiF"
      }
    },
    {
      "cell_type": "code",
      "source": [
        "#!zip -r /content/file.zip /content/folder_to_zip\n",
        "!zip -r /content/CbQg-ACode.zip /content/codeBERT-QG/output/CbQg-ACode\n"
      ],
      "metadata": {
        "id": "0oYlpgK_pw6E",
        "colab": {
          "base_uri": "https://localhost:8080/"
        },
        "outputId": "fbde8825-111b-45c7-a2a9-e47d4855fb0b"
      },
      "execution_count": 6,
      "outputs": [
        {
          "output_type": "stream",
          "name": "stdout",
          "text": [
            "  adding: content/codeBERT-QG/output/CbQg-ACode/ (stored 0%)\n",
            "  adding: content/codeBERT-QG/output/CbQg-ACode/test_0.output (deflated 74%)\n",
            "  adding: content/codeBERT-QG/output/CbQg-ACode/dev.gold (deflated 66%)\n",
            "  adding: content/codeBERT-QG/output/CbQg-ACode/checkpoint-best-bleu/ (stored 0%)\n",
            "  adding: content/codeBERT-QG/output/CbQg-ACode/checkpoint-best-bleu/pytorch_model.bin (deflated 10%)\n",
            "  adding: content/codeBERT-QG/output/CbQg-ACode/dev.output (deflated 70%)\n",
            "  adding: content/codeBERT-QG/output/CbQg-ACode/checkpoint-last/ (stored 0%)\n",
            "  adding: content/codeBERT-QG/output/CbQg-ACode/checkpoint-last/pytorch_model.bin (deflated 10%)\n",
            "  adding: content/codeBERT-QG/output/CbQg-ACode/test_0.gold (deflated 72%)\n",
            "  adding: content/codeBERT-QG/output/CbQg-ACode/checkpoint-best-ppl/ (stored 0%)\n",
            "  adding: content/codeBERT-QG/output/CbQg-ACode/checkpoint-best-ppl/pytorch_model.bin (deflated 10%)\n",
            "  adding: content/codeBERT-QG/output/CbQg-ACode/log.txt (deflated 88%)\n"
          ]
        }
      ]
    },
    {
      "cell_type": "markdown",
      "source": [
        "Following code helps you to copy your output to your goole drive"
      ],
      "metadata": {
        "id": "306nwvv_qtg1"
      }
    },
    {
      "cell_type": "code",
      "source": [
        "# copy it there\n",
        "!cp /content/CbQg-ACode.zip /content/drive/MyDrive/output"
      ],
      "metadata": {
        "id": "EmGUz8mwq04v"
      },
      "execution_count": 11,
      "outputs": []
    },
    {
      "cell_type": "markdown",
      "source": [
        "Execute following command if need inforamtion of system used for training."
      ],
      "metadata": {
        "id": "16oSLV0dUunh"
      }
    },
    {
      "cell_type": "code",
      "source": [
        "#use this command to see GPU activity while doing Deep Learning tasks, for this command 'nvidia-smi' and for above one to work, go to 'Runtime > change runtime type > Hardware Accelerator > GPU'\n",
        "!nvidia-smi\n",
        "!nvidia-smi -L\n",
        "!lscpu |grep 'Model name'\n",
        "#no.of cores each processor is having \n",
        "!lscpu | grep 'Core(s) per socket:'\n",
        "#memory that we can use\n",
        "!free -h --si | awk  '/Mem:/{print $2}'\n",
        "#hard disk space that we can use\n",
        "!df -h / | awk '{print $4}'\n",
        "#no.of sockets i.e available slots for physical processors\n",
        "!lscpu | grep 'Socket(s):'\n",
        "!lscpu | grep \"L3 cache\" \n",
        "#if it had turbo boost it would've shown Min and Max MHz also but it is only showing current frequency this means it always operates at shown frequency\n",
        "!lscpu | grep \"MHz\""
      ],
      "metadata": {
        "id": "jloTmRB9Ka16",
        "outputId": "1d54e480-104f-4ce2-b84d-ff587bc525b8",
        "colab": {
          "base_uri": "https://localhost:8080/"
        }
      },
      "execution_count": 8,
      "outputs": [
        {
          "output_type": "stream",
          "name": "stdout",
          "text": [
            "Thu Feb  9 16:04:53 2023       \n",
            "+-----------------------------------------------------------------------------+\n",
            "| NVIDIA-SMI 510.47.03    Driver Version: 510.47.03    CUDA Version: 11.6     |\n",
            "|-------------------------------+----------------------+----------------------+\n",
            "| GPU  Name        Persistence-M| Bus-Id        Disp.A | Volatile Uncorr. ECC |\n",
            "| Fan  Temp  Perf  Pwr:Usage/Cap|         Memory-Usage | GPU-Util  Compute M. |\n",
            "|                               |                      |               MIG M. |\n",
            "|===============================+======================+======================|\n",
            "|   0  NVIDIA A100-SXM...  Off  | 00000000:00:04.0 Off |                    0 |\n",
            "| N/A   36C    P0    59W / 400W |      0MiB / 40960MiB |      0%      Default |\n",
            "|                               |                      |             Disabled |\n",
            "+-------------------------------+----------------------+----------------------+\n",
            "                                                                               \n",
            "+-----------------------------------------------------------------------------+\n",
            "| Processes:                                                                  |\n",
            "|  GPU   GI   CI        PID   Type   Process name                  GPU Memory |\n",
            "|        ID   ID                                                   Usage      |\n",
            "|=============================================================================|\n",
            "|  No running processes found                                                 |\n",
            "+-----------------------------------------------------------------------------+\n",
            "GPU 0: NVIDIA A100-SXM4-40GB (UUID: GPU-e597f589-74ce-d975-6d21-651be5e4d256)\n",
            "Model name:                      Intel(R) Xeon(R) CPU @ 2.20GHz\n",
            "Core(s) per socket:              6\n",
            "85G\n",
            "Avail\n",
            "139G\n",
            "Socket(s):                       1\n",
            "L3 cache:                        38.5 MiB\n",
            "CPU MHz:                         2200.196\n"
          ]
        }
      ]
    }
  ]
}